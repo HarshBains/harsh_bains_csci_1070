{
 "cells": [
  {
   "cell_type": "code",
   "execution_count": 1,
   "id": "d0273018-0ec2-4e33-a0cb-a6a8c3e8c65f",
   "metadata": {},
   "outputs": [
    {
     "name": "stdout",
     "output_type": "stream",
     "text": [
      "1\n",
      "2\n",
      "3 fizz\n",
      "3\n",
      "4\n",
      "5 buzz\n",
      "5\n",
      "6 fizz\n",
      "6\n",
      "7\n",
      "8\n",
      "9 fizz\n",
      "9\n",
      "10 buzz\n",
      "10\n",
      "11\n",
      "12 fizz\n",
      "12\n",
      "13\n",
      "14\n",
      "15 fizzbuzz\n",
      "15\n"
     ]
    }
   ],
   "source": [
    "def func(n):\n",
    "    x = 1\n",
    "    while x <= n:\n",
    "        print(x)\n",
    "        x = x + 1\n",
    "        if x % 3 == 0 and x % 5 == 0:\n",
    "            print(x, 'fizzbuzz')\n",
    "        elif x % 3 == 0:\n",
    "            print(x, 'fizz')\n",
    "        elif x % 5 == 0:\n",
    "            print(x, 'buzz')\n",
    "\n",
    "func(15)"
   ]
  },
  {
   "cell_type": "markdown",
   "id": "8f98c466-8d52-4fdd-8788-05b41ffb2930",
   "metadata": {},
   "source": [
    "# Underfitting & Overfitting\n",
    "\n",
    "Underfitting occurs when a model is unable to effectively make predictions on the training data, meaning it is too generalized; conversely, overfitting occurs when a model fits too closely to the training data, which means it is too specialized and is not broad enough. You avoid both by employing cross validation effectively, making sure that there is an appropriate split of training v/s. test data."
   ]
  },
  {
   "cell_type": "markdown",
   "id": "cef5e542-dc85-4da5-9236-fd6c1df85343",
   "metadata": {},
   "source": [
    "# Cross Validation\n",
    "\n",
    "This is how we test the performance of a machine learning model, and is exemplified by our usage of the train-test split."
   ]
  }
 ],
 "metadata": {
  "kernelspec": {
   "display_name": "Python 3 (ipykernel)",
   "language": "python",
   "name": "python3"
  },
  "language_info": {
   "codemirror_mode": {
    "name": "ipython",
    "version": 3
   },
   "file_extension": ".py",
   "mimetype": "text/x-python",
   "name": "python",
   "nbconvert_exporter": "python",
   "pygments_lexer": "ipython3",
   "version": "3.12.6"
  }
 },
 "nbformat": 4,
 "nbformat_minor": 5
}
