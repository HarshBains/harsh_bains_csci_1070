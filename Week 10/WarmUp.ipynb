{
 "cells": [
  {
   "cell_type": "code",
   "execution_count": 11,
   "id": "d0273018-0ec2-4e33-a0cb-a6a8c3e8c65f",
   "metadata": {},
   "outputs": [
    {
     "name": "stdout",
     "output_type": "stream",
     "text": [
      "1\n",
      "2\n",
      "3 fizz\n",
      "3\n",
      "4\n",
      "5 buzz\n",
      "5\n",
      "6 fizz\n",
      "6\n",
      "7\n",
      "8\n",
      "9 fizz\n",
      "9\n",
      "10 buzz\n",
      "10\n",
      "11\n",
      "12 fizz\n",
      "12\n",
      "13\n",
      "14\n",
      "15 fizzbuzz\n",
      "15\n"
     ]
    }
   ],
   "source": [
    "def func(n):\n",
    "    x = 1\n",
    "    while x <= n:\n",
    "        print(x)\n",
    "        x = x + 1\n",
    "        if x % 3 == 0 and x % 5 == 0:\n",
    "            print(x, 'fizzbuzz')\n",
    "        elif x % 3 == 0:\n",
    "            print(x, 'fizz')\n",
    "        elif x % 5 == 0:\n",
    "            print(x, 'buzz')\n",
    "\n",
    "func(15)"
   ]
  }
 ],
 "metadata": {
  "kernelspec": {
   "display_name": "Python 3 (ipykernel)",
   "language": "python",
   "name": "python3"
  },
  "language_info": {
   "codemirror_mode": {
    "name": "ipython",
    "version": 3
   },
   "file_extension": ".py",
   "mimetype": "text/x-python",
   "name": "python",
   "nbconvert_exporter": "python",
   "pygments_lexer": "ipython3",
   "version": "3.12.6"
  }
 },
 "nbformat": 4,
 "nbformat_minor": 5
}
