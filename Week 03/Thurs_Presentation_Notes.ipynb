{
 "cells": [
  {
   "cell_type": "markdown",
   "id": "30bb71b9-a3fe-4bfd-a792-4d94c4d50b9c",
   "metadata": {},
   "source": [
    "# Principles of OOP\n",
    "\n",
    "Encapsulation - implementation details are hidden or encapsulated in objects\n",
    "\n",
    "Inheritance - child classes can inherit from parent classes and modules\n",
    "\n",
    "Polymorphism - objects and names exist in many forms. So, the same attribute or method can exist in multiple classes and mean different things, etc.\n",
    "\n",
    "Abstraction - handling a concept rather than the implementation details"
   ]
  },
  {
   "cell_type": "markdown",
   "id": "a6ccb023-4133-4879-a5c6-89cc13995832",
   "metadata": {},
   "source": [
    "# NumPy Overview\n",
    "\n",
    "1. Arrays\n",
    "2. Array shaping and transposition\n",
    "3. Array math\n",
    "4. Array indexing and slicing\n",
    "5. array broadcasting\n",
    "\n",
    "NumPy is all about arrays!"
   ]
  },
  {
   "cell_type": "markdown",
   "id": "63fa5287-ec5b-4b7a-8722-ee55980dc652",
   "metadata": {},
   "source": [
    "# Arrays\n",
    "\n",
    "Structured list of numbers.\n",
    "\n",
    "- Scalars\n",
    "- Vectors\n",
    "- Matrices\n",
    "- Images\n",
    "- Tensors\n",
    "- ConvNets (Convulusional Neural Network)"
   ]
  },
  {
   "cell_type": "code",
   "execution_count": 7,
   "id": "7cf83cf2-dff3-44ed-a3fc-b2e675baf060",
   "metadata": {},
   "outputs": [
    {
     "name": "stdout",
     "output_type": "stream",
     "text": [
      "2 (2, 3) float32\n"
     ]
    }
   ],
   "source": [
    "# Arrays, Basic Properties\n",
    "\n",
    "import numpy as np\n",
    "\n",
    "a = np.array([[1,2,3], [4,5,6]], dtype = np.float32)\n",
    "\n",
    "print(a.ndim, a.shape, a.dtype)\n",
    "\n",
    "# Arrays can have any number of dimensions, including zero (a scalar).\n",
    "# Arrays are typed: np.uint8, np.int64, np.float32, np.float64\n",
    "# Arrays are dense. Each element of the array exists and has the same type.\n",
    "# Arrays are faster than python lists (consume less memory).\n",
    "# We can only combine arrays of the same shape!"
   ]
  },
  {
   "cell_type": "code",
   "execution_count": 15,
   "id": "31185c73-94b5-4ebb-8e01-40e4c1c006d8",
   "metadata": {},
   "outputs": [
    {
     "name": "stdout",
     "output_type": "stream",
     "text": [
      "3 (1, 3, 3) float32\n"
     ]
    },
    {
     "data": {
      "text/plain": [
       "array([[1., 1.],\n",
       "       [1., 1.],\n",
       "       [1., 1.]])"
      ]
     },
     "execution_count": 15,
     "metadata": {},
     "output_type": "execute_result"
    }
   ],
   "source": [
    "# Array Exercise\n",
    "\n",
    "import numpy as np\n",
    "\n",
    "# Make a three-dimensional array\n",
    "arr = np.array([[[1,2,3],[4,5,6],[7,8,9]]], dtype = np.float32)\n",
    "\n",
    "print(arr.ndim, arr.shape, arr.dtype)\n",
    "\n",
    "# Make a 6D array\n",
    "arr2 = np.array([[[1,2,3],[4,5,6],[7,8,9]]], ndmin = 6)\n",
    "arr2\n",
    "\n",
    "# np.ones((3, 2))\n",
    "np.ones((3, 2))"
   ]
  },
  {
   "cell_type": "markdown",
   "id": "fc858125-e57b-4f76-935d-3227e30c1d7e",
   "metadata": {},
   "source": [
    "# Shaping"
   ]
  },
  {
   "cell_type": "code",
   "execution_count": 16,
   "id": "f1472df2-7a83-42d2-82e4-b8af0dad81cf",
   "metadata": {},
   "outputs": [
    {
     "data": {
      "text/plain": [
       "array([1, 2, 3, 4, 5, 6])"
      ]
     },
     "execution_count": 16,
     "metadata": {},
     "output_type": "execute_result"
    }
   ],
   "source": [
    "a = np.array([1, 2, 3, 4, 5, 6])\n",
    "a"
   ]
  },
  {
   "cell_type": "code",
   "execution_count": 18,
   "id": "74c58c83-f968-45a2-8eb4-124d86d97f50",
   "metadata": {},
   "outputs": [
    {
     "data": {
      "text/plain": [
       "array([[1, 2],\n",
       "       [3, 4],\n",
       "       [5, 6]])"
      ]
     },
     "execution_count": 18,
     "metadata": {},
     "output_type": "execute_result"
    }
   ],
   "source": [
    "a = a.reshape(3, 2)\n",
    "a"
   ]
  },
  {
   "cell_type": "code",
   "execution_count": 21,
   "id": "400a30ca-ddae-4fb4-83b3-f574f5a3de3e",
   "metadata": {},
   "outputs": [
    {
     "data": {
      "text/plain": [
       "array([[1, 2, 3],\n",
       "       [4, 5, 6]])"
      ]
     },
     "execution_count": 21,
     "metadata": {},
     "output_type": "execute_result"
    }
   ],
   "source": [
    "a = a.reshape(2, -1)\n",
    "a\n",
    "\n",
    "# -1 inverts the axes"
   ]
  },
  {
   "cell_type": "code",
   "execution_count": 22,
   "id": "d62154d5-e423-4d21-ae2e-4c3b1dc783d5",
   "metadata": {},
   "outputs": [
    {
     "data": {
      "text/plain": [
       "array([1, 2, 3, 4, 5, 6])"
      ]
     },
     "execution_count": 22,
     "metadata": {},
     "output_type": "execute_result"
    }
   ],
   "source": [
    "a = a.ravel()\n",
    "a"
   ]
  },
  {
   "cell_type": "code",
   "execution_count": 24,
   "id": "f472c405-1ba3-47e7-94b7-5d0d2ff03713",
   "metadata": {},
   "outputs": [
    {
     "data": {
      "text/plain": [
       "array([[0, 1],\n",
       "       [2, 3],\n",
       "       [4, 5],\n",
       "       [6, 7],\n",
       "       [8, 9]])"
      ]
     },
     "execution_count": 24,
     "metadata": {},
     "output_type": "execute_result"
    }
   ],
   "source": [
    "b = np.arange(10).reshape(5, 2)\n",
    "b"
   ]
  },
  {
   "cell_type": "code",
   "execution_count": 25,
   "id": "162d2c2f-362b-4ae8-acdd-9adc07e1ec14",
   "metadata": {},
   "outputs": [
    {
     "data": {
      "text/plain": [
       "array([[0, 2, 4, 6, 8],\n",
       "       [1, 3, 5, 7, 9]])"
      ]
     },
     "execution_count": 25,
     "metadata": {},
     "output_type": "execute_result"
    }
   ],
   "source": [
    "b = b.T\n",
    "b\n",
    "\n",
    "# Transposed; rows became columns, columns became rows"
   ]
  },
  {
   "cell_type": "code",
   "execution_count": 26,
   "id": "9b763f92-8d78-4a8d-8124-25aa9cc36269",
   "metadata": {},
   "outputs": [
    {
     "data": {
      "text/plain": [
       "array([[0.        , 1.41421356, 2.        , 2.44948974, 2.82842712],\n",
       "       [1.        , 1.73205081, 2.23606798, 2.64575131, 3.        ]])"
      ]
     },
     "execution_count": 26,
     "metadata": {},
     "output_type": "execute_result"
    }
   ],
   "source": [
    "np.sqrt(b)"
   ]
  },
  {
   "cell_type": "markdown",
   "id": "5fa1619f-e8c1-47ba-8a64-3768bd566579",
   "metadata": {},
   "source": [
    "# Pandas\n",
    "\n",
    "Python module used for data analysis and exploration\n",
    "\n",
    "Two main useful data structures:\n",
    "- Series\n",
    "- DataFrames\n",
    "\n",
    "Can import data files and turn them into DataFrames\n",
    "- CSV (comma-separated values)\n",
    "\n",
    "The documentation is pretty good!\n",
    "\n",
    "Can handle medium sized data (not very good for truly big data)\n",
    "- But each new release gets a bit better"
   ]
  }
 ],
 "metadata": {
  "kernelspec": {
   "display_name": "Python 3 (ipykernel)",
   "language": "python",
   "name": "python3"
  },
  "language_info": {
   "codemirror_mode": {
    "name": "ipython",
    "version": 3
   },
   "file_extension": ".py",
   "mimetype": "text/x-python",
   "name": "python",
   "nbconvert_exporter": "python",
   "pygments_lexer": "ipython3",
   "version": "3.12.5"
  }
 },
 "nbformat": 4,
 "nbformat_minor": 5
}
