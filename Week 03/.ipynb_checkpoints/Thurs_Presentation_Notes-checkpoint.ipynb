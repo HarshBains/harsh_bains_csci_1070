{
 "cells": [
  {
   "cell_type": "markdown",
   "id": "30bb71b9-a3fe-4bfd-a792-4d94c4d50b9c",
   "metadata": {},
   "source": [
    "# Principles of OOP\n",
    "\n",
    "Encapsulation - implementation details are hidden or encapsulated in objects\n",
    "\n",
    "Inheritance - child classes can inherit from parent classes and modules\n",
    "\n",
    "Polymorphism - objects and names exist in many forms. So, the same attribute or method can exist in multiple classes and mean different things, etc.\n",
    "\n",
    "Abstraction - handling a concept rather than the implementation details"
   ]
  },
  {
   "cell_type": "markdown",
   "id": "a6ccb023-4133-4879-a5c6-89cc13995832",
   "metadata": {},
   "source": [
    "# NumPy Overview\n",
    "\n",
    "1. Arrays\n",
    "2. Array shaping and transposition\n",
    "3. Array math\n",
    "4. Array indexing and slicing\n",
    "5. array broadcasting\n",
    "\n",
    "NumPy is all about arrays!"
   ]
  },
  {
   "cell_type": "markdown",
   "id": "63fa5287-ec5b-4b7a-8722-ee55980dc652",
   "metadata": {},
   "source": [
    "# Arrays\n",
    "\n",
    "Structured list of numbers.\n",
    "\n",
    "- Scalars\n",
    "- Vectors\n",
    "- Matrices\n",
    "- Images\n",
    "- Tensors\n",
    "- ConvNets (Convulusional Neural Network)"
   ]
  },
  {
   "cell_type": "code",
   "execution_count": 7,
   "id": "7cf83cf2-dff3-44ed-a3fc-b2e675baf060",
   "metadata": {},
   "outputs": [
    {
     "name": "stdout",
     "output_type": "stream",
     "text": [
      "2 (2, 3) float32\n"
     ]
    }
   ],
   "source": [
    "# Arrays, Basic Properties\n",
    "\n",
    "import numpy as np\n",
    "\n",
    "a = np.array([[1,2,3], [4,5,6]], dtype = np.float32)\n",
    "\n",
    "print(a.ndim, a.shape, a.dtype)\n",
    "\n",
    "# Arrays can have any number of dimensions, including zero (a scalar).\n",
    "# Arrays are typed: np.uint8, np.int64, np.float32, np.float64\n",
    "# Arrays are dense. Each element of the array exists and has the same type.\n",
    "# Arrays are faster than python lists (consume less memory).\n",
    "# We can only combine arrays of the same shape!"
   ]
  },
  {
   "cell_type": "code",
   "execution_count": 8,
   "id": "31185c73-94b5-4ebb-8e01-40e4c1c006d8",
   "metadata": {},
   "outputs": [
    {
     "name": "stdout",
     "output_type": "stream",
     "text": [
      "3 (1, 3, 3) float32\n"
     ]
    }
   ],
   "source": [
    "# Array Exercise\n",
    "\n",
    "import numpy as np\n",
    "\n",
    "arr = np.array([[[1,2,3],[4,5,6],[7,8,9]]], dtype = np.float32)\n",
    "\n",
    "print(arr.ndim, arr.shape, arr.dtype)"
   ]
  }
 ],
 "metadata": {
  "kernelspec": {
   "display_name": "Python 3 (ipykernel)",
   "language": "python",
   "name": "python3"
  },
  "language_info": {
   "codemirror_mode": {
    "name": "ipython",
    "version": 3
   },
   "file_extension": ".py",
   "mimetype": "text/x-python",
   "name": "python",
   "nbconvert_exporter": "python",
   "pygments_lexer": "ipython3",
   "version": "3.12.5"
  }
 },
 "nbformat": 4,
 "nbformat_minor": 5
}
