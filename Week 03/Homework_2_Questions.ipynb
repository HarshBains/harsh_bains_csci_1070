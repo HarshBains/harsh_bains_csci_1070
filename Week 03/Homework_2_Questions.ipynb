{
 "cells": [
  {
   "cell_type": "markdown",
   "id": "4d7e762c-9fc0-4cd3-b0db-89ca17152808",
   "metadata": {},
   "source": [
    "### Homework 2\n",
    "#### Loops, Functions and Classes\n",
    "\n",
    "1. Do this homework **in order**. \n",
    "2. Be sure to have a solid understanding of Functions before working with Classes.\n",
    "\n",
    "In general, I don't expect deep knowledge of classes in this class. What's covered here is roughly the extent of it. Remember, classes are a tricky concept to master in programming, but they are more straightforward in Python than many other languages. \n",
    "\n",
    "Also, do not hesitate to reach out to me for help! When I first learned to program the concepts covered in assignments like this blew my mind. If you find this difficult, you are not alone! I was once in the same boat as well. "
   ]
  },
  {
   "cell_type": "markdown",
   "id": "691e2265-ff44-4748-b16e-d0a407370fb9",
   "metadata": {},
   "source": [
    "1. (2 pts) Loop through the string and eliminate all the asterisks."
   ]
  },
  {
   "cell_type": "code",
   "execution_count": 5,
   "id": "ae0d2ee2-4281-49ad-84f2-c2abad57067d",
   "metadata": {},
   "outputs": [
    {
     "name": "stdout",
     "output_type": "stream",
     "text": [
      "My computer has gone crazy and added extra symbols.\n"
     ]
    }
   ],
   "source": [
    "asterisk = 'My* compu*ter has go*ne craz***y an*d add*ed extra *symbols.*'\n",
    "asterisk_new = \"\"\n",
    "\n",
    "for c in asterisk:\n",
    "    if c != '*':\n",
    "        asterisk_new += c\n",
    "\n",
    "print(asterisk_new)"
   ]
  },
  {
   "cell_type": "markdown",
   "id": "bdec3ba8-5372-4ad9-a03b-580c04e3a431",
   "metadata": {},
   "source": [
    "2. (1 pt) Write a while loop that increments counter until it reaches 7."
   ]
  },
  {
   "cell_type": "code",
   "execution_count": 7,
   "id": "e333acd1-7e6a-4c8b-a51f-3fba6492bcc9",
   "metadata": {},
   "outputs": [
    {
     "name": "stdout",
     "output_type": "stream",
     "text": [
      "7\n"
     ]
    }
   ],
   "source": [
    "counter = 0\n",
    "\n",
    "while (counter < 7):\n",
    "    counter += 1\n",
    "\n",
    "print(counter)"
   ]
  },
  {
   "cell_type": "markdown",
   "id": "bddaa2d7-917a-4c11-8ccc-10b926539945",
   "metadata": {},
   "source": [
    "3. (3 pts) Create a function that takes in two numbers.\n",
    "If the numbers are both even add them and return the result.\n",
    "\n",
    "If the numbers are odd, subtract the second number from the first and return the result.\n",
    "\n",
    "(Assume you'll always get integers and if you dont, return a message indicating the input is wrong)"
   ]
  },
  {
   "cell_type": "code",
   "execution_count": 9,
   "id": "7cf1850c-b7a4-4d13-8488-1ffd269fa79b",
   "metadata": {
    "scrolled": true
   },
   "outputs": [
    {
     "data": {
      "text/plain": [
       "6"
      ]
     },
     "execution_count": 9,
     "metadata": {},
     "output_type": "execute_result"
    }
   ],
   "source": [
    "def evenodd(num1, num2):\n",
    "    if (type(num1) != int or type(num2) != int):\n",
    "        print(\"Your input is incorrect; one or both of the parameters provided is/are not integer(s)!\")\n",
    "    elif (num1 % 2 == 0 and num2 % 2 == 0):\n",
    "        return num1 + num2\n",
    "    elif (num1 % 2 != 0 and num2 % 2 != 0):\n",
    "        return num1 - num2\n",
    "    else:\n",
    "        print(\"Your input is incorrect; the integers are not both even or both odd!\")\n",
    "\n",
    "evenodd(4, 2)"
   ]
  },
  {
   "cell_type": "markdown",
   "id": "4fe68a99-b731-4768-804f-87a81099581d",
   "metadata": {},
   "source": [
    "4. (4 pts) Create a function that prints a triangle of asterisks as below. \n",
    "The function accepts n as an integer and makes the longest leg of the triangle that length, decrementing by one until you close the triangle. The function also accepts a direction for the triangle as a variable. If you pass in \"base-up\" it returns the first, but \"base-down\" returns the second.\n",
    "For example, for a triangle where n = 5, the following would be produced:"
   ]
  },
  {
   "cell_type": "code",
   "execution_count": 2,
   "id": "989783e2-c5a8-4eb8-9b27-69c26863f89b",
   "metadata": {},
   "outputs": [
    {
     "name": "stdout",
     "output_type": "stream",
     "text": [
      "* * * * * \n",
      "* * * * \n",
      "* * * \n",
      "* * \n",
      "* \n",
      "\n",
      "* \n",
      "* * \n",
      "* * * \n",
      "* * * * \n",
      "* * * * * \n"
     ]
    }
   ],
   "source": [
    "#Base-up triangle\n",
    "# * * * * *\n",
    "# * * * *\n",
    "# * * *\n",
    "# * *\n",
    "# *\n",
    "\n",
    "#Base-down triangle\n",
    "# *\n",
    "# * *\n",
    "# * * *\n",
    "# * * * *\n",
    "# * * * * *\n",
    "\n",
    "def triangles(n, direction):\n",
    "    \n",
    "    if direction == \"base-up\":\n",
    "        while n > 0:\n",
    "            print('* ' * n) # This being legal syntax is a game changer for me coming from Java / C++, and makes while-loops a viable \n",
    "                            # alternative to for-loops \n",
    "            n -= 1\n",
    "    elif direction == \"base-down\":\n",
    "        row_length = 1\n",
    "        while (row_length <= n):\n",
    "            print('* ' * row_length)\n",
    "            row_length += 1\n",
    "            \n",
    "# For testing :)\n",
    "triangles(5, \"base-up\")\n",
    "print()\n",
    "triangles(5, \"base-down\")"
   ]
  },
  {
   "cell_type": "markdown",
   "id": "f5d8735c-5da0-47e3-a2a5-2d99561e6ce9",
   "metadata": {},
   "source": [
    "5. (4 pts) Create a function that accepts a letter. Variables a, b, c, and d all start with a value of 0 and can each have a max value of 8. You need to find and return the value for each that results in the place that letter is in the alphabet. So, for example, if you pass in J, the returned value should be \"a = 8, b = 2, c = 0, and d = 0 for the letter J\". You should provide logical errors for inputs that arent what you expect.  "
   ]
  },
  {
   "cell_type": "code",
   "execution_count": 86,
   "id": "87d2d239-27ef-4ba8-a462-4e03967b359f",
   "metadata": {},
   "outputs": [
    {
     "name": "stdout",
     "output_type": "stream",
     "text": [
      "A: 1 B: 0 C: 0 D: 0 for the letter A.\n",
      "A: 2 B: 0 C: 0 D: 0 for the letter B.\n",
      "A: 8 B: 2 C: 0 D: 0 for the letter J.\n",
      "A: 8 B: 8 C: 8 D: 0 for the letter X.\n",
      "A: 8 B: 8 C: 8 D: 2 for the letter Z.\n"
     ]
    },
    {
     "data": {
      "text/plain": [
       "'Error! The input is not a character!'"
      ]
     },
     "execution_count": 86,
     "metadata": {},
     "output_type": "execute_result"
    }
   ],
   "source": [
    "def position(letter):\n",
    "\n",
    "    if type(letter) != str or len(letter) != 1:\n",
    "        return (\"Error! The input is not a character!\")\n",
    "\n",
    "    a = 0\n",
    "    b = 0\n",
    "    c = 0\n",
    "    d = 0\n",
    "\n",
    "    # Note: the following is obviously highly unoptimal, but I was unsure if there exists a simple function that returns the alphabetical position\n",
    "    # of a letter.\n",
    "    pos = 0;\n",
    "    if letter == 'A' or letter == 'a':\n",
    "        pos = 1\n",
    "    elif letter == 'B' or letter == 'b':\n",
    "        pos = 2\n",
    "    elif letter == 'C' or letter == 'c':\n",
    "        pos = 3\n",
    "    elif letter == 'D' or letter == 'd':\n",
    "        pos = 4\n",
    "    elif letter == 'E' or letter == 'e':\n",
    "        pos = 5\n",
    "    elif letter == 'F' or letter == 'f':\n",
    "        pos = 6\n",
    "    elif letter == 'G' or letter == 'g':\n",
    "        pos = 7\n",
    "    elif letter == 'H' or letter == 'h':\n",
    "        pos = 8\n",
    "    elif letter == 'I' or letter == 'i':\n",
    "        pos = 9\n",
    "    elif letter == 'J' or letter == 'j':\n",
    "        pos = 10\n",
    "    elif letter == 'K' or letter == 'k':\n",
    "        pos = 11\n",
    "    elif letter == 'L' or letter == 'l':\n",
    "        pos = 12\n",
    "    elif letter == 'M' or letter == 'm':\n",
    "        pos = 13\n",
    "    elif letter == 'N' or letter == 'n':\n",
    "        pos = 14\n",
    "    elif letter == 'O' or letter == 'o':\n",
    "        pos = 15\n",
    "    elif letter == 'P' or letter == 'p':\n",
    "        pos = 16\n",
    "    elif letter == 'Q' or letter == 'q':\n",
    "        pos = 17\n",
    "    elif letter == 'R' or letter == 'r':\n",
    "        pos = 18\n",
    "    elif letter == 'S' or letter == 's':\n",
    "        pos = 19\n",
    "    elif letter == 'T' or letter == 't':\n",
    "        pos = 20\n",
    "    elif letter == 'U' or letter == 'u':\n",
    "        pos = 21\n",
    "    elif letter == 'V' or letter == 'v':\n",
    "        pos = 22\n",
    "    elif letter == 'W' or letter == 'w':\n",
    "        pos = 23\n",
    "    elif letter == 'X' or letter == 'x':\n",
    "        pos = 24\n",
    "    elif letter == 'Y' or letter == 'y':\n",
    "        pos = 25\n",
    "    elif letter == 'Z' or letter == 'z':\n",
    "        pos = 26\n",
    "\n",
    "    # Probably could've done this an easier way, but it makes the most intuitive sense to me if I divide 1-26 in 4 and allocate the values \n",
    "    # into A-D accordingly.\n",
    "    if pos >= 1 and pos <= 8:\n",
    "        a = pos\n",
    "    elif pos > 8 and pos <= 16:\n",
    "        a = 8\n",
    "        b = pos - 8\n",
    "    elif pos > 16 and pos <= 24:\n",
    "        a = 8\n",
    "        b = 8\n",
    "        c = pos - 16\n",
    "    else:\n",
    "        a = 8\n",
    "        b = 8\n",
    "        c = 8\n",
    "        d = pos - 24\n",
    "\n",
    "    print (f\"A: {a} B: {b} C: {c} D: {d} for the letter {letter}.\")\n",
    "\n",
    "# testing :)\n",
    "position(\"A\")\n",
    "position(\"B\")\n",
    "position(\"J\")\n",
    "position(\"X\")\n",
    "position(\"Z\")\n",
    "position(4)"
   ]
  },
  {
   "cell_type": "markdown",
   "id": "9cbe4104-769f-49c0-94d8-8c9750f941bc",
   "metadata": {},
   "source": [
    "6. (3 pts) Add an attribute called `age` to the `__init__` method of the `Person` class.\n",
    "\n",
    "Create an instance of `Person()` and print the `age`."
   ]
  },
  {
   "cell_type": "code",
   "execution_count": 31,
   "id": "d9857301-6a2a-424f-bf03-b8da9bcc483c",
   "metadata": {},
   "outputs": [
    {
     "name": "stdout",
     "output_type": "stream",
     "text": [
      "18\n"
     ]
    }
   ],
   "source": [
    "class Person():\n",
    "    \n",
    "    def __init__(self, name, occupation, country, age):\n",
    "        self.name = name\n",
    "        self.occupation = occupation\n",
    "        self.country = country\n",
    "        self.age = age\n",
    "\n",
    "me = Person(\"Harsh\", \"Student\", \"United States\", 18)\n",
    "\n",
    "print(me.age)"
   ]
  },
  {
   "cell_type": "markdown",
   "id": "4f0f1b43-fefa-4f47-882f-f47800543fa9",
   "metadata": {},
   "source": [
    "7. (3 pts) Add a `static` method of your choice to the class below. \n",
    "\n",
    "Instantiate an object and call your method. \n",
    "\n",
    "What is a static method? (1 pt for your answer here) "
   ]
  },
  {
   "cell_type": "code",
   "execution_count": 83,
   "id": "8bdb974b-86b6-4376-ac0e-be5982fce59b",
   "metadata": {},
   "outputs": [
    {
     "name": "stdout",
     "output_type": "stream",
     "text": [
      "Meryl Streep: This is my line...\n",
      "Marilyn Monroe: And I am here now to generate conflict and incite excitement!\n",
      "And... scene! Bad acting!\n"
     ]
    }
   ],
   "source": [
    "from random import randrange\n",
    "\n",
    "class actress():\n",
    "    def __init__(self, name = 'Meryl Streep'):\n",
    "        self.name = name\n",
    "        \n",
    "    def act(self, line):\n",
    "        print(f'{self.name}: {line}')\n",
    "        \n",
    "    # your static method goes here.\n",
    "    @staticmethod # Decorator that denotes that the following is a static method.\n",
    "    def judge(): # 50-50 chance to judge the acting as good or bad.\n",
    "        if randrange(0, 2) == 0: # the outer bound is 2 as it is exclusive; that is, not including the bound itself. Thus, this still onl \n",
    "                                 # generates 0 or 1 as doesn't include 2.\n",
    "            print(\"And... scene! Bad acting!\")\n",
    "        else:\n",
    "            print(\"And... scene! Good acting!\")\n",
    "            \n",
    "meryl = actress()\n",
    "meryl.act('This is my line...')\n",
    "monroe = actress(\"Marilyn Monroe\")\n",
    "monroe.act('And I am here now to generate conflict and incite excitement!')\n",
    "actress.judge()\n",
    "\n",
    "# Static methods are methods that \"belong\" to the entire class, rather than a specific instance of it. For instance (haha), the instance \n",
    "# method act() requires the self instance as a parameter because it can be called only using a specific instance of a class (thus why we need to write\n",
    "# <object>.act(), like \"meryl.act()\"). Static methods, like judge() which I created, can be called by the entire class, as I did when \n",
    "# calling it, later."
   ]
  },
  {
   "cell_type": "markdown",
   "id": "d02a50c2-0df8-47cf-ba86-43c3fe9734e7",
   "metadata": {},
   "source": [
    "8. (5 pts) Create a class called `Dice` that accepts a single argument called `number_of_dice`. \n",
    "\n",
    "Create an instance method called `roll`. \n",
    "\n",
    "`roll` should randomly pick a number for each die when called and print the results as a list. \n",
    "\n",
    "Create an instance of `Dice`. Then call `roll()` on your instance.\n",
    "\n",
    "Hint: Inside your class create an empty list called `dice`."
   ]
  },
  {
   "cell_type": "code",
   "execution_count": 92,
   "id": "417e11af-458f-4307-b69a-ff20a39c9855",
   "metadata": {},
   "outputs": [
    {
     "name": "stdout",
     "output_type": "stream",
     "text": [
      "1\n",
      "[6, 3, 4, 6, 5, 1]\n"
     ]
    }
   ],
   "source": [
    "# Helpful starter code\n",
    "from random import randrange\n",
    "\n",
    "print(randrange(1,7)) # randomly generates a number between 1 and 6\n",
    "\n",
    "class Dice():\n",
    "    \n",
    "    def __init__(self, number_of_dice): # Default constructor\n",
    "        self.numDice = number_of_dice\n",
    "        self.dice = [] # An empty list as an attribute\n",
    "\n",
    "    def roll(self): # Need the self instance parameter because this is an instance method\n",
    "        curr_dice = 0\n",
    "        while curr_dice < self.numDice:\n",
    "            self.dice += [randrange(1,7)]\n",
    "            curr_dice += 1\n",
    "        print (self.dice)\n",
    "\n",
    "dice = Dice(6)\n",
    "dice.roll()"
   ]
  },
  {
   "cell_type": "markdown",
   "id": "627197ff-27e6-4839-a5c6-59cd6200d2fb",
   "metadata": {},
   "source": [
    "BONUS: (3 pts) Create a `class` called Car that accepts 3 attributes (make, model and year). \n",
    "\n",
    "In the `__init__` method give your instance those three attributes. \n",
    "\n",
    "Instantiate (create) an object that is your dream car. \n",
    "\n",
    "Print the make of your dream car using the object attributes. \n",
    "\n",
    "Create an appropriate method to return the top speed and call it. \n",
    "\n",
    "Then call the dir() method on your new object. (See your attrs are now included!)"
   ]
  }
 ],
 "metadata": {
  "kernelspec": {
   "display_name": "Python 3 (ipykernel)",
   "language": "python",
   "name": "python3"
  },
  "language_info": {
   "codemirror_mode": {
    "name": "ipython",
    "version": 3
   },
   "file_extension": ".py",
   "mimetype": "text/x-python",
   "name": "python",
   "nbconvert_exporter": "python",
   "pygments_lexer": "ipython3",
   "version": "3.12.6"
  }
 },
 "nbformat": 4,
 "nbformat_minor": 5
}
