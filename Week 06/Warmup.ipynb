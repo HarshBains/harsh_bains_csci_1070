{
 "cells": [
  {
   "cell_type": "markdown",
   "id": "74711d22-30fd-41a7-821c-da06b5dec93e",
   "metadata": {},
   "source": [
    "# Linear Regression\n",
    "\n",
    "Linear regression models and predicts the relationship between independent and dependent variables. Univariate linear regression predicts a dependent variable from ONE independent variable whereas multiple linear regression predicts a dependent variable from MULTIPLE independent variables.\n",
    "\n",
    "You can predict linear data using linear regression."
   ]
  },
  {
   "cell_type": "markdown",
   "id": "c239e491-5b7c-4a73-ae39-ce69270714c1",
   "metadata": {},
   "source": [
    "# KNN\n",
    "\n",
    "K-nearest neighbor predicts the group of a datapoint based on majority \"votes\" from nearest neighbors.\n",
    "\n",
    "K represents the hyperparameter which indicates how many data points any new datapoint must listen to in order to decide what class it is in.\n",
    "\n",
    "You can use KNN to predict more sporadic data (discrete)."
   ]
  },
  {
   "cell_type": "code",
   "execution_count": null,
   "id": "931f24a3-1ca9-4a0c-a720-d13345c65889",
   "metadata": {},
   "outputs": [],
   "source": []
  }
 ],
 "metadata": {
  "kernelspec": {
   "display_name": "Python 3 (ipykernel)",
   "language": "python",
   "name": "python3"
  },
  "language_info": {
   "codemirror_mode": {
    "name": "ipython",
    "version": 3
   },
   "file_extension": ".py",
   "mimetype": "text/x-python",
   "name": "python",
   "nbconvert_exporter": "python",
   "pygments_lexer": "ipython3",
   "version": "3.12.6"
  }
 },
 "nbformat": 4,
 "nbformat_minor": 5
}
