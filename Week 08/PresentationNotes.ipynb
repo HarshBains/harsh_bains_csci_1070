{
 "cells": [
  {
   "cell_type": "markdown",
   "id": "81145015-af65-4a68-846f-20c5f8bc6cc5",
   "metadata": {},
   "source": [
    "# Limit\n",
    "\n",
    "SELECT column_name(s)\n",
    "FROM table_name\n",
    "WHERE condition\n",
    "LIMIT number;\n",
    "\n",
    "Different dialects of SQL have different ways of limiting:\n",
    "- ROWNUM in Oracle\n",
    "- TOP in SQL Server\n",
    "\n",
    "Can run:\n",
    "SELECT count(*)\n",
    "FROM table_name\n",
    "To see how risky a select * is, but it's always safer to use LIMIT"
   ]
  },
  {
   "cell_type": "markdown",
   "id": "44854b02-7d58-4a2f-8d4b-c264727a8ff4",
   "metadata": {},
   "source": [
    "# Merging\n",
    "\n",
    "Select *\n",
    "from customer\n",
    "leftjoin address\n",
    "on customer.address_id = address.adress_id\n",
    "\n",
    "OR \n",
    "\n",
    "Select *\n",
    "from customer c\n",
    "leftjoin address a\n",
    "on c.address_id = a.address_id"
   ]
  }
 ],
 "metadata": {
  "kernelspec": {
   "display_name": "Python 3 (ipykernel)",
   "language": "python",
   "name": "python3"
  },
  "language_info": {
   "codemirror_mode": {
    "name": "ipython",
    "version": 3
   },
   "file_extension": ".py",
   "mimetype": "text/x-python",
   "name": "python",
   "nbconvert_exporter": "python",
   "pygments_lexer": "ipython3",
   "version": "3.12.6"
  }
 },
 "nbformat": 4,
 "nbformat_minor": 5
}
