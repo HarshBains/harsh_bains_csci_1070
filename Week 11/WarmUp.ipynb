{
 "cells": [
  {
   "cell_type": "markdown",
   "id": "e18b078b-1b5c-4a43-bf1b-b9fbdbc5270c",
   "metadata": {},
   "source": [
    "# How do you avoid overfitting your model?\n",
    "\n",
    "You can standardize the dataset, and tinker with the depth of the ML model."
   ]
  },
  {
   "cell_type": "code",
   "execution_count": 8,
   "id": "273f3087-ee7a-490e-acd9-4d030e332e48",
   "metadata": {},
   "outputs": [
    {
     "data": {
      "text/plain": [
       "['Mahley', ' Vivek', ' Tony', ' and Nico']"
      ]
     },
     "execution_count": 8,
     "metadata": {},
     "output_type": "execute_result"
    }
   ],
   "source": [
    "ex = \"Mahley, Vivek, Tony, and Nico\"\n",
    "\n",
    "def test(sentence):\n",
    "    result = []\n",
    "    current = \"\"\n",
    "    for char in sentence:\n",
    "        if char == \",\":\n",
    "            result.append(current)\n",
    "            current = \"\"\n",
    "        else:\n",
    "            current += char\n",
    "    result.append(current)  # Add the last segment after the loop\n",
    "    return result\n",
    "\n",
    "test(ex)"
   ]
  },
  {
   "cell_type": "code",
   "execution_count": 9,
   "id": "d9c8d357-926b-4b32-8dbd-27e8d51a9620",
   "metadata": {},
   "outputs": [
    {
     "name": "stdout",
     "output_type": "stream",
     "text": [
      "['Mahley', 'Vivek', 'Tony', 'and Nico']\n"
     ]
    }
   ],
   "source": [
    "def name_splitter(names):\n",
    "    name_list = names.split(\", \")\n",
    "    print(name_list)\n",
    "\n",
    "name_splitter(ex)"
   ]
  },
  {
   "cell_type": "markdown",
   "id": "f33cedb3-b1a7-4d1d-afd8-4c448bc5756b",
   "metadata": {},
   "source": [
    "# Presentations\n",
    "\n",
    "12/4 Wednesday and 12/5 Thursday"
   ]
  },
  {
   "cell_type": "code",
   "execution_count": null,
   "id": "80c10ab4-17e3-454f-9187-a4ea35c6679c",
   "metadata": {},
   "outputs": [],
   "source": []
  }
 ],
 "metadata": {
  "kernelspec": {
   "display_name": "Python 3 (ipykernel)",
   "language": "python",
   "name": "python3"
  },
  "language_info": {
   "codemirror_mode": {
    "name": "ipython",
    "version": 3
   },
   "file_extension": ".py",
   "mimetype": "text/x-python",
   "name": "python",
   "nbconvert_exporter": "python",
   "pygments_lexer": "ipython3",
   "version": "3.12.6"
  }
 },
 "nbformat": 4,
 "nbformat_minor": 5
}
