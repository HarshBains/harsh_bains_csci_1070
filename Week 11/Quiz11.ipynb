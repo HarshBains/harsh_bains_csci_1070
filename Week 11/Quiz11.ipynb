{
 "cells": [
  {
   "cell_type": "markdown",
   "id": "eff263da-01bd-46f8-9111-f856dee49e05",
   "metadata": {},
   "source": [
    "# Question 1"
   ]
  },
  {
   "cell_type": "code",
   "execution_count": 24,
   "id": "96fd8dbc-1631-4ce1-851d-419ab2bc13d8",
   "metadata": {},
   "outputs": [
    {
     "name": "stdout",
     "output_type": "stream",
     "text": [
      "['a', 'b']\n"
     ]
    }
   ],
   "source": [
    "ex = [1, 2, 'a', 'b', 7.6]\n",
    "\n",
    "def q1(ex_list):\n",
    "    new_ex = [item for item in ex_list if not isinstance(item, (int, float))]\n",
    "    print(new_ex)\n",
    "\n",
    "q1(ex)"
   ]
  },
  {
   "cell_type": "markdown",
   "id": "76aeab1a-e87f-4026-9ff5-38829f7c2e83",
   "metadata": {},
   "source": [
    "# Question 2"
   ]
  },
  {
   "cell_type": "code",
   "execution_count": 45,
   "id": "8ca1c0a6-d8a5-40d7-9a85-bf4aea707f6b",
   "metadata": {},
   "outputs": [
    {
     "data": {
      "text/plain": [
       "'\\n    This function takes an integer input and counts up from 1 to the input.\\n    If the current number is divisible by 3 and 5, return \"fizzbuzz\".\\n    Otherwise, if the integer is only divisible by 3, return \"fizz\",\\n    or if the integer is only divisible by 5, return \"buzz\".\\n'"
      ]
     },
     "execution_count": 45,
     "metadata": {},
     "output_type": "execute_result"
    }
   ],
   "source": [
    "        '''\n",
    "    This function takes an integer input and counts up from 1 to the input.\n",
    "    If the current number is divisible by 3 and 5, return \"fizzbuzz\".\n",
    "    Otherwise, if the integer is only divisible by 3, return \"fizz\",\n",
    "    or if the integer is only divisible by 5, return \"buzz\".\n",
    "        '''"
   ]
  },
  {
   "cell_type": "code",
   "execution_count": 52,
   "id": "4fa6607b-0a1f-4d4c-9044-6dd25b28f819",
   "metadata": {},
   "outputs": [
    {
     "name": "stdout",
     "output_type": "stream",
     "text": [
      "1\n",
      "2\n",
      "3 fizz\n",
      "4\n",
      "5 buzz\n",
      "6 fizz\n",
      "7\n",
      "8\n",
      "9 fizz\n",
      "10 buzz\n",
      "11\n",
      "12 fizz\n",
      "13\n",
      "14\n",
      "15 fizzbuzz\n"
     ]
    }
   ],
   "source": [
    "def func(n: int) -> str:\n",
    "    x = 1  # Start counter at 1\n",
    "    while x <= n:\n",
    "        if x % 3 == 0 and x % 5 == 0:  # Check divisibility by both 3 and 5\n",
    "            print(x, \"fizzbuzz\")\n",
    "        elif x % 3 == 0:  # Check divisibility by 3\n",
    "            print(x, \"fizz\")\n",
    "        elif x % 5 == 0:  # Check divisibility by 5\n",
    "            print(x, \"buzz\")\n",
    "        else:\n",
    "            print(x)  # Print the number itself if none of the conditions match\n",
    "        x += 1  # Increment the counter\n",
    "\n",
    "func(15)"
   ]
  }
 ],
 "metadata": {
  "kernelspec": {
   "display_name": "Python 3 (ipykernel)",
   "language": "python",
   "name": "python3"
  },
  "language_info": {
   "codemirror_mode": {
    "name": "ipython",
    "version": 3
   },
   "file_extension": ".py",
   "mimetype": "text/x-python",
   "name": "python",
   "nbconvert_exporter": "python",
   "pygments_lexer": "ipython3",
   "version": "3.12.6"
  }
 },
 "nbformat": 4,
 "nbformat_minor": 5
}
