{
 "cells": [
  {
   "cell_type": "markdown",
   "id": "4f3f2479-b128-46f4-a783-edf4e21fe646",
   "metadata": {},
   "source": [
    "# Matplotlib plotting\n",
    "\n",
    "**Edward Tufte's**\n",
    "**Graphical Integrity Principles:**\n",
    "1. Representations of numbers should match their true proportions.\n",
    "2. Labeling should be clear, detailed and thorough.\n",
    "3. Designs should show only data variations, not design variation.\n",
    "4. Standardized units are best when representing money.\n",
    "5. The number of dimensions visualized should equal the number of dimensions in the data.\n",
    "6. Representations should not imply a subjective or false context."
   ]
  },
  {
   "cell_type": "code",
   "execution_count": null,
   "id": "db42bf23-0e08-4117-8fcf-0c930314163a",
   "metadata": {},
   "outputs": [],
   "source": []
  }
 ],
 "metadata": {
  "kernelspec": {
   "display_name": "Python 3 (ipykernel)",
   "language": "python",
   "name": "python3"
  },
  "language_info": {
   "codemirror_mode": {
    "name": "ipython",
    "version": 3
   },
   "file_extension": ".py",
   "mimetype": "text/x-python",
   "name": "python",
   "nbconvert_exporter": "python",
   "pygments_lexer": "ipython3",
   "version": "3.12.5"
  }
 },
 "nbformat": 4,
 "nbformat_minor": 5
}
