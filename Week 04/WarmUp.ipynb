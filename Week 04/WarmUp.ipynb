{
 "cells": [
  {
   "cell_type": "code",
   "execution_count": 10,
   "id": "127ea781-686b-4f1d-b340-f8a331ffc767",
   "metadata": {},
   "outputs": [
    {
     "data": {
      "text/plain": [
       "5.669843208294997"
      ]
     },
     "execution_count": 10,
     "metadata": {},
     "output_type": "execute_result"
    }
   ],
   "source": [
    "import pandas as pd\n",
    "import math\n",
    "import statistics\n",
    "from scipy import stats\n",
    "\n",
    "csv_df = pd.read_csv('cars.csv', delimiter = \";\")\n",
    "\n",
    "csv_df.head()\n",
    "\n",
    "belize_df = pd.read_csv('belize_airbnb_listings.csv')\n",
    "\n",
    "belize_df.head()\n",
    "\n",
    "statistics.stdev(belize_df[\"number_of_reviews\"]) # Sample deviation because the listing probably doesn't have every single AirBnB listing in \n",
    "# Belize.\n",
    "\n",
    "statistics.stdev(belize_df[\"minimum_nights\"])\n",
    "\n"
   ]
  },
  {
   "cell_type": "code",
   "execution_count": null,
   "id": "2553d26a-9151-4bea-88dd-2abaa1a6b456",
   "metadata": {},
   "outputs": [],
   "source": []
  }
 ],
 "metadata": {
  "kernelspec": {
   "display_name": "Python 3 (ipykernel)",
   "language": "python",
   "name": "python3"
  },
  "language_info": {
   "codemirror_mode": {
    "name": "ipython",
    "version": 3
   },
   "file_extension": ".py",
   "mimetype": "text/x-python",
   "name": "python",
   "nbconvert_exporter": "python",
   "pygments_lexer": "ipython3",
   "version": "3.12.5"
  }
 },
 "nbformat": 4,
 "nbformat_minor": 5
}
