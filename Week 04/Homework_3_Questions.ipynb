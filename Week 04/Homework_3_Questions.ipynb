{
 "cells": [
  {
   "cell_type": "markdown",
   "metadata": {},
   "source": [
    "### Homework 3 Numpy Arrays and Pandas\n",
    "\n",
    "1. Open `cars.csv` in jupyter and look at the data. (Double click `cars.csv` to open in a new tab).\n",
    "2. We are converting each **column** into a numpy array.\n",
    "3. Notice we have text, integer and float data. \n",
    "4. Take care not to overwrite your starter code."
   ]
  },
  {
   "cell_type": "code",
   "execution_count": 2,
   "metadata": {},
   "outputs": [],
   "source": [
    "#Starter code. Do NOT modify this cell\n",
    "import pandas as pd\n",
    "import numpy as np\n",
    "\n",
    "# Read in dataset\n",
    "df = pd.read_csv('cars.csv',delimiter=';')\n",
    "\n",
    "# Convert each column to an np.array\n",
    "car = df.Car.to_numpy()\n",
    "mpg = df.MPG.to_numpy()\n",
    "cylinders = df.Cylinders.to_numpy()\n",
    "displacement = df.Displacement.to_numpy()\n",
    "horsepower = df.Horsepower.to_numpy()\n",
    "weight = df.Weight.to_numpy()\n",
    "acceleration = df.Acceleration.to_numpy()\n",
    "model = df.Model.to_numpy()\n",
    "origin = df.Origin.to_numpy()\n",
    "\n",
    "# create an array of headers\n",
    "headers = np.array(['Car', 'MPG', 'Cylinders', 'Displacement', 'Horsepower', 'Weight','Acceleration', 'Model', 'Origin'])"
   ]
  },
  {
   "cell_type": "markdown",
   "metadata": {},
   "source": [
    "1. (2 pts) What are the numpy datatypes for the `car`,`mpg`, `horsepower` and `origin` arrays? (Hint: Not `type(car)` and use `print()` to print the numpy type.)"
   ]
  },
  {
   "cell_type": "code",
   "execution_count": 12,
   "metadata": {},
   "outputs": [
    {
     "name": "stdout",
     "output_type": "stream",
     "text": [
      "object\n",
      "float64\n",
      "float64\n",
      "object\n"
     ]
    }
   ],
   "source": [
    "print(car.dtype)\n",
    "print(mpg.dtype)\n",
    "print(horsepower.dtype)\n",
    "print(origin.dtype)"
   ]
  },
  {
   "cell_type": "markdown",
   "metadata": {},
   "source": [
    "2. (1 pt) `numpy` is often imported as `np`. What is this action called? Why might you do this? "
   ]
  },
  {
   "cell_type": "markdown",
   "metadata": {},
   "source": [
    "When we import numpy as np, we are assigning it an **alias**, which allows us to call it not using it's official name (\"numpy\"), but by instead using the alias, which we can change to our liking (\"np\"). Doing this primarily benefits programmer convenience, as \"np\" is quicker to write out than \"numpy\", which can be useful if we know the library in question is going to be used extensively in whatever we're currently working on."
   ]
  },
  {
   "cell_type": "markdown",
   "metadata": {},
   "source": [
    "3. (2 pts) Each of the arrays (cars, mpg, cylinders, etc..) has how many dimensions? Show how to find this using code. "
   ]
  },
  {
   "cell_type": "code",
   "execution_count": 14,
   "metadata": {},
   "outputs": [
    {
     "name": "stdout",
     "output_type": "stream",
     "text": [
      "1\n",
      "1\n"
     ]
    }
   ],
   "source": [
    "# Each array has one dimension, since they are all simply a list (in the colloquial sense) that tracks individual, indexed values. We can\n",
    "# verify this by typing the following:\n",
    "\n",
    "print(car.ndim)\n",
    "\n",
    "# <arr>.ndim returns the number of dimensions the array in question (\"arr\") has; since car has one dimension, it returned one. We can \n",
    "# do the same for every array.\n",
    "\n",
    "print(mpg.ndim)\n",
    "\n",
    "# You get the idea."
   ]
  },
  {
   "cell_type": "markdown",
   "metadata": {},
   "source": [
    "4. (3 pts) What is the ___ of `horsepower`?\n",
    "- sum\n",
    "- min\n",
    "- max\n",
    "- median\n",
    "- Optional: mode (May need to google help) (1 pt extra credit)"
   ]
  },
  {
   "cell_type": "code",
   "execution_count": 17,
   "metadata": {},
   "outputs": [
    {
     "name": "stdout",
     "output_type": "stream",
     "text": [
      "42033.0\n",
      "0.0\n",
      "230.0\n",
      "93.5\n"
     ]
    }
   ],
   "source": [
    "print(horsepower.sum())\n",
    "print(horsepower.min())\n",
    "print(horsepower.max())\n",
    "print(df[\"Horsepower\"].median())\n",
    "\n",
    "# I did print() here just to make the output of every line of code appear. "
   ]
  },
  {
   "cell_type": "markdown",
   "metadata": {},
   "source": [
    "5. (2 pts) Select the last element in each subarray (do this with one operation.)"
   ]
  },
  {
   "cell_type": "code",
   "execution_count": 18,
   "metadata": {},
   "outputs": [
    {
     "name": "stdout",
     "output_type": "stream",
     "text": [
      "[3 6 9]\n"
     ]
    }
   ],
   "source": [
    "import numpy as np\n",
    "select_more = np.array([[1,2,3],\n",
    "                      [4,5,6],\n",
    "                      [7,8,9]])\n",
    "\n",
    "# returns array([3, 6, 9])\n",
    "\n",
    "# As shown in the Numpy Python Cheat Sheet on the Canvas page, we can use the fact that \"-1\" if passed in as an index refers to the last \n",
    "# element of a given dataset when slicing, as well as the fact that the \":\" character when passed in as an index represents every row of an \n",
    "# array when slicing to do the following:\n",
    "last_arr = select_more[:, -1]\n",
    "\n",
    "# For testing\n",
    "print(last_arr)\n"
   ]
  },
  {
   "cell_type": "markdown",
   "metadata": {},
   "source": [
    "6. (2 pts) Use the built-in `np.lookfor()` function to search for `'log'`.\n",
    "\n",
    "Use the function you find and apply it to `mpg`."
   ]
  },
  {
   "cell_type": "code",
   "execution_count": 20,
   "metadata": {},
   "outputs": [],
   "source": [
    "# The lookfor() function was removed in NumPy's 2.0 release; looking through the library's documentation and the author's GitHub page, it \n",
    "# seems that the consensus is that the function just needed to be deprecated, and its logic needing to be replicated manually whenever it \n",
    "# requires using."
   ]
  },
  {
   "cell_type": "markdown",
   "metadata": {},
   "source": [
    "7. (2 pts) Use boolean indexing to create an array of `True/False` using `origin` and the value 'US'."
   ]
  },
  {
   "cell_type": "code",
   "execution_count": 4,
   "metadata": {
    "scrolled": true
   },
   "outputs": [
    {
     "name": "stdout",
     "output_type": "stream",
     "text": [
      "[ True  True  True  True  True  True  True  True  True  True False  True\n",
      "  True  True  True  True  True  True  True  True False  True  True  True\n",
      " False False False False False False  True  True  True  True  True False\n",
      "  True False  True False  True  True  True  True  True  True  True  True\n",
      "  True  True  True  True  True  True  True  True  True False False False\n",
      " False False False  True False  True False  True  True  True  True  True\n",
      "  True  True  True  True  True  True False  True  True  True  True False\n",
      " False False False  True False False  True False  True  True  True  True\n",
      "  True  True  True  True  True  True  True  True  True  True  True  True\n",
      "  True False  True  True  True  True  True False  True False False  True\n",
      "  True False  True  True False False False False  True False False  True\n",
      "  True  True  True  True False  True False  True  True  True  True  True\n",
      "  True  True  True  True False False False False False  True False False\n",
      " False False False  True  True  True  True  True  True  True  True  True\n",
      "  True  True  True  True  True  True False  True  True  True False False\n",
      " False  True False  True False False False False False False False  True\n",
      "  True False  True  True  True  True  True  True  True  True  True  True\n",
      " False False  True  True  True  True False False False  True False  True\n",
      " False False False  True  True  True  True False  True False  True False\n",
      "  True  True  True  True  True  True  True  True  True  True  True  True\n",
      " False  True False  True  True  True False False False False False False\n",
      "  True False False False  True  True  True  True  True  True  True  True\n",
      "  True  True  True  True  True  True  True  True  True  True False False\n",
      "  True False  True  True False False False False False False False  True\n",
      "  True  True  True  True  True  True  True  True  True  True  True  True\n",
      " False False  True  True False  True False  True  True  True False False\n",
      "  True  True  True  True False False  True False  True  True  True  True\n",
      " False False False False False False  True False False False False False\n",
      " False False False False False False False  True False  True  True  True\n",
      "  True  True False  True False False False False False  True  True  True\n",
      " False False False False False False False False False False False  True\n",
      "  True  True  True  True  True  True  True  True  True  True  True False\n",
      " False False  True  True False False False False False False  True  True\n",
      "  True  True False  True  True  True False  True  True  True]\n"
     ]
    }
   ],
   "source": [
    "# The NumPy Python Cheat Sheet came in handy again, as I had no idea what boolean indexing meant :)\n",
    "bool_index = origin == 'US'\n",
    "\n",
    "print(bool_index)\n",
    "\n",
    "# The output represents that the array is true wherever the origin of the car in df is \"US\", and false wherever it is not."
   ]
  },
  {
   "cell_type": "markdown",
   "metadata": {},
   "source": [
    "8. (2 pts) Apply your index (from above) to the `car` array. You should now only see cars that are of US origin. "
   ]
  },
  {
   "cell_type": "code",
   "execution_count": 17,
   "metadata": {},
   "outputs": [
    {
     "data": {
      "text/html": [
       "<div>\n",
       "<style scoped>\n",
       "    .dataframe tbody tr th:only-of-type {\n",
       "        vertical-align: middle;\n",
       "    }\n",
       "\n",
       "    .dataframe tbody tr th {\n",
       "        vertical-align: top;\n",
       "    }\n",
       "\n",
       "    .dataframe thead th {\n",
       "        text-align: right;\n",
       "    }\n",
       "</style>\n",
       "<table border=\"1\" class=\"dataframe\">\n",
       "  <thead>\n",
       "    <tr style=\"text-align: right;\">\n",
       "      <th></th>\n",
       "      <th>Car</th>\n",
       "      <th>MPG</th>\n",
       "      <th>Cylinders</th>\n",
       "      <th>Displacement</th>\n",
       "      <th>Horsepower</th>\n",
       "      <th>Weight</th>\n",
       "      <th>Acceleration</th>\n",
       "      <th>Model</th>\n",
       "      <th>Origin</th>\n",
       "    </tr>\n",
       "  </thead>\n",
       "  <tbody>\n",
       "    <tr>\n",
       "      <th>0</th>\n",
       "      <td>Chevrolet Chevelle Malibu</td>\n",
       "      <td>18.0</td>\n",
       "      <td>8</td>\n",
       "      <td>307.0</td>\n",
       "      <td>130.0</td>\n",
       "      <td>3504.0</td>\n",
       "      <td>12.0</td>\n",
       "      <td>70</td>\n",
       "      <td>US</td>\n",
       "    </tr>\n",
       "    <tr>\n",
       "      <th>1</th>\n",
       "      <td>Buick Skylark 320</td>\n",
       "      <td>15.0</td>\n",
       "      <td>8</td>\n",
       "      <td>350.0</td>\n",
       "      <td>165.0</td>\n",
       "      <td>3693.0</td>\n",
       "      <td>11.5</td>\n",
       "      <td>70</td>\n",
       "      <td>US</td>\n",
       "    </tr>\n",
       "    <tr>\n",
       "      <th>2</th>\n",
       "      <td>Plymouth Satellite</td>\n",
       "      <td>18.0</td>\n",
       "      <td>8</td>\n",
       "      <td>318.0</td>\n",
       "      <td>150.0</td>\n",
       "      <td>3436.0</td>\n",
       "      <td>11.0</td>\n",
       "      <td>70</td>\n",
       "      <td>US</td>\n",
       "    </tr>\n",
       "    <tr>\n",
       "      <th>3</th>\n",
       "      <td>AMC Rebel SST</td>\n",
       "      <td>16.0</td>\n",
       "      <td>8</td>\n",
       "      <td>304.0</td>\n",
       "      <td>150.0</td>\n",
       "      <td>3433.0</td>\n",
       "      <td>12.0</td>\n",
       "      <td>70</td>\n",
       "      <td>US</td>\n",
       "    </tr>\n",
       "    <tr>\n",
       "      <th>4</th>\n",
       "      <td>Ford Torino</td>\n",
       "      <td>17.0</td>\n",
       "      <td>8</td>\n",
       "      <td>302.0</td>\n",
       "      <td>140.0</td>\n",
       "      <td>3449.0</td>\n",
       "      <td>10.5</td>\n",
       "      <td>70</td>\n",
       "      <td>US</td>\n",
       "    </tr>\n",
       "    <tr>\n",
       "      <th>5</th>\n",
       "      <td>Ford Galaxie 500</td>\n",
       "      <td>15.0</td>\n",
       "      <td>8</td>\n",
       "      <td>429.0</td>\n",
       "      <td>198.0</td>\n",
       "      <td>4341.0</td>\n",
       "      <td>10.0</td>\n",
       "      <td>70</td>\n",
       "      <td>US</td>\n",
       "    </tr>\n",
       "    <tr>\n",
       "      <th>6</th>\n",
       "      <td>Chevrolet Impala</td>\n",
       "      <td>14.0</td>\n",
       "      <td>8</td>\n",
       "      <td>454.0</td>\n",
       "      <td>220.0</td>\n",
       "      <td>4354.0</td>\n",
       "      <td>9.0</td>\n",
       "      <td>70</td>\n",
       "      <td>US</td>\n",
       "    </tr>\n",
       "    <tr>\n",
       "      <th>7</th>\n",
       "      <td>Plymouth Fury iii</td>\n",
       "      <td>14.0</td>\n",
       "      <td>8</td>\n",
       "      <td>440.0</td>\n",
       "      <td>215.0</td>\n",
       "      <td>4312.0</td>\n",
       "      <td>8.5</td>\n",
       "      <td>70</td>\n",
       "      <td>US</td>\n",
       "    </tr>\n",
       "    <tr>\n",
       "      <th>8</th>\n",
       "      <td>Pontiac Catalina</td>\n",
       "      <td>14.0</td>\n",
       "      <td>8</td>\n",
       "      <td>455.0</td>\n",
       "      <td>225.0</td>\n",
       "      <td>4425.0</td>\n",
       "      <td>10.0</td>\n",
       "      <td>70</td>\n",
       "      <td>US</td>\n",
       "    </tr>\n",
       "    <tr>\n",
       "      <th>9</th>\n",
       "      <td>AMC Ambassador DPL</td>\n",
       "      <td>15.0</td>\n",
       "      <td>8</td>\n",
       "      <td>390.0</td>\n",
       "      <td>190.0</td>\n",
       "      <td>3850.0</td>\n",
       "      <td>8.5</td>\n",
       "      <td>70</td>\n",
       "      <td>US</td>\n",
       "    </tr>\n",
       "    <tr>\n",
       "      <th>11</th>\n",
       "      <td>Chevrolet Chevelle Concours (sw)</td>\n",
       "      <td>0.0</td>\n",
       "      <td>8</td>\n",
       "      <td>350.0</td>\n",
       "      <td>165.0</td>\n",
       "      <td>4142.0</td>\n",
       "      <td>11.5</td>\n",
       "      <td>70</td>\n",
       "      <td>US</td>\n",
       "    </tr>\n",
       "    <tr>\n",
       "      <th>12</th>\n",
       "      <td>Ford Torino (sw)</td>\n",
       "      <td>0.0</td>\n",
       "      <td>8</td>\n",
       "      <td>351.0</td>\n",
       "      <td>153.0</td>\n",
       "      <td>4034.0</td>\n",
       "      <td>11.0</td>\n",
       "      <td>70</td>\n",
       "      <td>US</td>\n",
       "    </tr>\n",
       "    <tr>\n",
       "      <th>13</th>\n",
       "      <td>Plymouth Satellite (sw)</td>\n",
       "      <td>0.0</td>\n",
       "      <td>8</td>\n",
       "      <td>383.0</td>\n",
       "      <td>175.0</td>\n",
       "      <td>4166.0</td>\n",
       "      <td>10.5</td>\n",
       "      <td>70</td>\n",
       "      <td>US</td>\n",
       "    </tr>\n",
       "    <tr>\n",
       "      <th>14</th>\n",
       "      <td>AMC Rebel SST (sw)</td>\n",
       "      <td>0.0</td>\n",
       "      <td>8</td>\n",
       "      <td>360.0</td>\n",
       "      <td>175.0</td>\n",
       "      <td>3850.0</td>\n",
       "      <td>11.0</td>\n",
       "      <td>70</td>\n",
       "      <td>US</td>\n",
       "    </tr>\n",
       "    <tr>\n",
       "      <th>15</th>\n",
       "      <td>Dodge Challenger SE</td>\n",
       "      <td>15.0</td>\n",
       "      <td>8</td>\n",
       "      <td>383.0</td>\n",
       "      <td>170.0</td>\n",
       "      <td>3563.0</td>\n",
       "      <td>10.0</td>\n",
       "      <td>70</td>\n",
       "      <td>US</td>\n",
       "    </tr>\n",
       "    <tr>\n",
       "      <th>16</th>\n",
       "      <td>Plymouth 'Cuda 340</td>\n",
       "      <td>14.0</td>\n",
       "      <td>8</td>\n",
       "      <td>340.0</td>\n",
       "      <td>160.0</td>\n",
       "      <td>3609.0</td>\n",
       "      <td>8.0</td>\n",
       "      <td>70</td>\n",
       "      <td>US</td>\n",
       "    </tr>\n",
       "    <tr>\n",
       "      <th>17</th>\n",
       "      <td>Ford Mustang Boss 302</td>\n",
       "      <td>0.0</td>\n",
       "      <td>8</td>\n",
       "      <td>302.0</td>\n",
       "      <td>140.0</td>\n",
       "      <td>3353.0</td>\n",
       "      <td>8.0</td>\n",
       "      <td>70</td>\n",
       "      <td>US</td>\n",
       "    </tr>\n",
       "    <tr>\n",
       "      <th>18</th>\n",
       "      <td>Chevrolet Monte Carlo</td>\n",
       "      <td>15.0</td>\n",
       "      <td>8</td>\n",
       "      <td>400.0</td>\n",
       "      <td>150.0</td>\n",
       "      <td>3761.0</td>\n",
       "      <td>9.5</td>\n",
       "      <td>70</td>\n",
       "      <td>US</td>\n",
       "    </tr>\n",
       "    <tr>\n",
       "      <th>19</th>\n",
       "      <td>Buick Estate Wagon (sw)</td>\n",
       "      <td>14.0</td>\n",
       "      <td>8</td>\n",
       "      <td>455.0</td>\n",
       "      <td>225.0</td>\n",
       "      <td>3086.0</td>\n",
       "      <td>10.0</td>\n",
       "      <td>70</td>\n",
       "      <td>US</td>\n",
       "    </tr>\n",
       "    <tr>\n",
       "      <th>21</th>\n",
       "      <td>Plymouth Duster</td>\n",
       "      <td>22.0</td>\n",
       "      <td>6</td>\n",
       "      <td>198.0</td>\n",
       "      <td>95.0</td>\n",
       "      <td>2833.0</td>\n",
       "      <td>15.5</td>\n",
       "      <td>70</td>\n",
       "      <td>US</td>\n",
       "    </tr>\n",
       "  </tbody>\n",
       "</table>\n",
       "</div>"
      ],
      "text/plain": [
       "                                 Car   MPG  Cylinders  Displacement  \\\n",
       "0          Chevrolet Chevelle Malibu  18.0          8         307.0   \n",
       "1                  Buick Skylark 320  15.0          8         350.0   \n",
       "2                 Plymouth Satellite  18.0          8         318.0   \n",
       "3                      AMC Rebel SST  16.0          8         304.0   \n",
       "4                        Ford Torino  17.0          8         302.0   \n",
       "5                   Ford Galaxie 500  15.0          8         429.0   \n",
       "6                   Chevrolet Impala  14.0          8         454.0   \n",
       "7                  Plymouth Fury iii  14.0          8         440.0   \n",
       "8                   Pontiac Catalina  14.0          8         455.0   \n",
       "9                 AMC Ambassador DPL  15.0          8         390.0   \n",
       "11  Chevrolet Chevelle Concours (sw)   0.0          8         350.0   \n",
       "12                  Ford Torino (sw)   0.0          8         351.0   \n",
       "13           Plymouth Satellite (sw)   0.0          8         383.0   \n",
       "14                AMC Rebel SST (sw)   0.0          8         360.0   \n",
       "15               Dodge Challenger SE  15.0          8         383.0   \n",
       "16                Plymouth 'Cuda 340  14.0          8         340.0   \n",
       "17             Ford Mustang Boss 302   0.0          8         302.0   \n",
       "18             Chevrolet Monte Carlo  15.0          8         400.0   \n",
       "19           Buick Estate Wagon (sw)  14.0          8         455.0   \n",
       "21                   Plymouth Duster  22.0          6         198.0   \n",
       "\n",
       "    Horsepower  Weight  Acceleration  Model Origin  \n",
       "0        130.0  3504.0          12.0     70     US  \n",
       "1        165.0  3693.0          11.5     70     US  \n",
       "2        150.0  3436.0          11.0     70     US  \n",
       "3        150.0  3433.0          12.0     70     US  \n",
       "4        140.0  3449.0          10.5     70     US  \n",
       "5        198.0  4341.0          10.0     70     US  \n",
       "6        220.0  4354.0           9.0     70     US  \n",
       "7        215.0  4312.0           8.5     70     US  \n",
       "8        225.0  4425.0          10.0     70     US  \n",
       "9        190.0  3850.0           8.5     70     US  \n",
       "11       165.0  4142.0          11.5     70     US  \n",
       "12       153.0  4034.0          11.0     70     US  \n",
       "13       175.0  4166.0          10.5     70     US  \n",
       "14       175.0  3850.0          11.0     70     US  \n",
       "15       170.0  3563.0          10.0     70     US  \n",
       "16       160.0  3609.0           8.0     70     US  \n",
       "17       140.0  3353.0           8.0     70     US  \n",
       "18       150.0  3761.0           9.5     70     US  \n",
       "19       225.0  3086.0          10.0     70     US  \n",
       "21        95.0  2833.0          15.5     70     US  "
      ]
     },
     "execution_count": 17,
     "metadata": {},
     "output_type": "execute_result"
    }
   ],
   "source": [
    "american_origin = df[bool_index]\n",
    "\n",
    "# For testing\n",
    "american_origin.head(20)"
   ]
  },
  {
   "cell_type": "markdown",
   "metadata": {},
   "source": [
    "### Use numpy or pandas to answer the following questions."
   ]
  },
  {
   "cell_type": "markdown",
   "metadata": {},
   "source": [
    "9. (3 pts) What is the average horsepower for `Europe` cars? (Hint: create a boolean index of 'US' apply it to horsepower and perform the calculation.)"
   ]
  },
  {
   "cell_type": "code",
   "execution_count": 30,
   "metadata": {},
   "outputs": [
    {
     "name": "stdout",
     "output_type": "stream",
     "text": [
      "78.78082191780823\n"
     ]
    }
   ],
   "source": [
    "eu_index = origin == 'Europe' # Boolean index for every European car\n",
    "\n",
    "eu_hp = horsepower[eu_index] # Applies the index to the horsepower array\n",
    "\n",
    "print(eu_hp.mean()) # Finds the mean (arithmetic average)"
   ]
  },
  {
   "cell_type": "markdown",
   "metadata": {},
   "source": [
    "10. (3 pts) On average are Japanese cars more fuel-efficient than US cars? Show the code that you used to determine this.  "
   ]
  },
  {
   "cell_type": "code",
   "execution_count": 45,
   "metadata": {},
   "outputs": [
    {
     "name": "stdout",
     "output_type": "stream",
     "text": [
      "30.450632911392404\n",
      "19.688188976377955\n"
     ]
    }
   ],
   "source": [
    "jp_index = origin == \"Japan\" # Boolean index for Japan\n",
    "jp_mpg = mpg[jp_index] # Japanese MPG array\n",
    "avg_jp = jp_mpg.mean() # Average Japanese MPG\n",
    "\n",
    "us_mpg = mpg[bool_index] # American MPG array\n",
    "avg_us = us_mpg.mean() # Average American MPG\n",
    "\n",
    "\n",
    "print(avg_jp)\n",
    "print(avg_us)\n",
    "\n",
    "# Based on the numbers below, we can tell that Japanese-made cars are more fuel-efficient than American-built cars, since their average MPG\n",
    "# (miles per gallon) are 30.45 compared to the US' (measly) 19.69."
   ]
  },
  {
   "cell_type": "markdown",
   "metadata": {},
   "source": [
    "11. (3 pts) What is the correlation coefficient of `mpg` and `weight`? What is a correlation coefficient? What does the result indicate about the relationship between mpg and weight? "
   ]
  },
  {
   "cell_type": "code",
   "execution_count": 6,
   "metadata": {},
   "outputs": [
    {
     "data": {
      "text/plain": [
       "array([[ 1.        , -0.78750994],\n",
       "       [-0.78750994,  1.        ]])"
      ]
     },
     "execution_count": 6,
     "metadata": {},
     "output_type": "execute_result"
    }
   ],
   "source": [
    "np.corrcoef(mpg, weight)\n",
    "\n",
    "# The correlation coefficient matrix shows us that there is a negative correlation between mpg and weight; however, this correlation is quite\n",
    "# strong, as there seems to be about a 78.7% correlation between them. Essentially, the matrix is showing us that as one variable goes up,\n",
    "# the other goes down, but that they still have a relatively strong connection in this way. It is important to recognize that \"negative\" \n",
    "# correlation, denoted by a \"-\", doesn't mean that there isn't a relationship between the two variables-- it instead only means that they are \n",
    "# inversely related. A weak correlation would be represented by a float closer to 0. This is all to say that, as represented by the matrix,\n",
    "# as MPG goes up, the weight goes down; or, as would make more intuitive sense, the heavier the car, the less miles per gallon it can realize."
   ]
  },
  {
   "cell_type": "markdown",
   "metadata": {},
   "source": [
    "13. Extra credit: (3 pts) Create a new pandas dataframe that has the average mpg, weight, and horsepower per country of origin"
   ]
  },
  {
   "cell_type": "code",
   "execution_count": 7,
   "metadata": {},
   "outputs": [
    {
     "name": "stdout",
     "output_type": "stream",
     "text": [
      "              MPG       Weight  Horsepower\n",
      "Origin                                    \n",
      "Europe  26.745205  2431.493151   78.780822\n",
      "Japan   30.450633  2221.227848   79.835443\n",
      "US      19.688189  3372.700787  118.011811\n"
     ]
    }
   ],
   "source": [
    "new_df = df.groupby(\"Origin\")\n",
    "\n",
    "new_df = new_df[[\"MPG\", \"Weight\", \"Horsepower\"]].mean()\n",
    "\n",
    "print(new_df)"
   ]
  }
 ],
 "metadata": {
  "kernelspec": {
   "display_name": "Python 3 (ipykernel)",
   "language": "python",
   "name": "python3"
  },
  "language_info": {
   "codemirror_mode": {
    "name": "ipython",
    "version": 3
   },
   "file_extension": ".py",
   "mimetype": "text/x-python",
   "name": "python",
   "nbconvert_exporter": "python",
   "pygments_lexer": "ipython3",
   "version": "3.12.6"
  }
 },
 "nbformat": 4,
 "nbformat_minor": 4
}
