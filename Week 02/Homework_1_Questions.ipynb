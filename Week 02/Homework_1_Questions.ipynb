{
 "cells": [
  {
   "cell_type": "markdown",
   "metadata": {},
   "source": [
    "### Homework 1\n",
    "\n",
    "Skim this Homework before you do your reading assignments. It will help focus your attention. \n",
    "\n",
    "Provide written answers to questions with a `#comment`. \n",
    "\n",
    "Answer the first 8 question **first** to make sure you understand the core concepts. The rest may be completed in any order.\n",
    "\n",
    "Each question is worth one point unless otherwise stated.\n",
    "\n",
    "Please note: I hope this assignment gets you to tinker with Python. I learn a lot by playing around, and it is important to me that you eventually do too!"
   ]
  },
  {
   "cell_type": "markdown",
   "metadata": {},
   "source": [
    "1. How can you get more information about a function or an object from inside a jupyter cell? "
   ]
  },
  {
   "cell_type": "code",
   "execution_count": null,
   "metadata": {},
   "outputs": [],
   "source": [
    "# You can put your cursor in the function or otherwise over an object you wish to learn more about and press shift-tab."
   ]
  },
  {
   "cell_type": "markdown",
   "metadata": {},
   "source": [
    "2. How can you determine the data type of an object? Describe one data type and what it is."
   ]
  },
  {
   "cell_type": "code",
   "execution_count": null,
   "metadata": {},
   "outputs": [],
   "source": [
    "# You can use type(), which returns the data type of the object that you set as its parameter. For instance, if you have instantiated an\n",
    "# object that is a boolean (let's call it x), then type(x) should print \"bool\"."
   ]
  },
  {
   "cell_type": "markdown",
   "metadata": {},
   "source": [
    "3. What does assignment mean? Assign a variable named `x` and give it a value of `'yellow'`."
   ]
  },
  {
   "cell_type": "code",
   "execution_count": null,
   "metadata": {},
   "outputs": [],
   "source": [
    "# Assignment, well, assigns or sets a value to a variable using the \"=\" operator; x = 'yellow' sets the variable x to a string value of \n",
    "# 'yellow'."
   ]
  },
  {
   "cell_type": "markdown",
   "metadata": {},
   "source": [
    "4. You have an assortment of items you will need to keep track of. What would be a good data structure to keep them in? Provide an example in code. Make sure your code runs!"
   ]
  },
  {
   "cell_type": "code",
   "execution_count": 3,
   "metadata": {},
   "outputs": [
    {
     "name": "stdout",
     "output_type": "stream",
     "text": [
      "Red\n",
      "Green\n",
      "Blue\n"
     ]
    }
   ],
   "source": [
    "# A good data structure to contain multiple entities is a list, which are dynamic and indexed. An example of one is below:\n",
    "colors = [\"Red\", \"Green\", \"Blue\"]\n",
    "\n",
    "for color in colors:\n",
    "    print(color) # Simply to ensure that the list has been successfully instantiated \n",
    "\n",
    "# You can also utilize sets, which are unordered but immutable, and tuples, which are ordered yet still immutable, lists are generally the \n",
    "# most flexible if the order of entities is important."
   ]
  },
  {
   "cell_type": "markdown",
   "metadata": {},
   "source": [
    "5. You have an assortment of names and telephone numbers. What might be a good data structure to keep them in? Show an example with code. Make sure your code runs!"
   ]
  },
  {
   "cell_type": "code",
   "execution_count": 7,
   "metadata": {},
   "outputs": [
    {
     "name": "stdout",
     "output_type": "stream",
     "text": [
      "314-284-9210\n"
     ]
    }
   ],
   "source": [
    "# Dictionaries are the most conducive to tracking pairs of values collectively. Since the objects are each a key-value pair, we can assign\n",
    "# a name to a number, and vice versa. Here's an example of one:\n",
    "phonebook = {\n",
    "\"Jeremy Wu\" : \"314-284-9210\",\n",
    "\"Micah Smith\" : \"636-791-9247\",\n",
    "\"Spring Williamson\" : \"314-412-9021\" # Note: the code is defined as key : value.\n",
    "}\n",
    "print(phonebook[\"Jeremy Wu\"]) # An example of printing a specific value by calling its key."
   ]
  },
  {
   "cell_type": "markdown",
   "metadata": {},
   "source": [
    "6. You need to create a copy of an important list and alter the copy. Why is the following code a bad idea? "
   ]
  },
  {
   "cell_type": "code",
   "execution_count": 11,
   "metadata": {},
   "outputs": [],
   "source": [
    "list1 = [2,4,6]\n",
    "list2 = list1\n",
    "list2[0] = 8"
   ]
  },
  {
   "cell_type": "code",
   "execution_count": null,
   "metadata": {},
   "outputs": [],
   "source": [
    "# By setting list2 equal to list1, we're just adding an alias for list1 to be referred by; in other words list2 is just another name for \n",
    "# list1, which means that any changes to list2 affect list1 as, well, list2 isn't its own object, but instead a reference to list1."
   ]
  },
  {
   "cell_type": "markdown",
   "metadata": {},
   "source": [
    "7. What is truthy and falsey? Provide a list example **and** a string example of something that is truthy and something that is falsey."
   ]
  },
  {
   "cell_type": "code",
   "execution_count": 16,
   "metadata": {},
   "outputs": [
    {
     "name": "stdout",
     "output_type": "stream",
     "text": [
      "x is falsey!\n",
      "The list is falsey!\n",
      "y is truthy!\n",
      "The list is truthy!\n"
     ]
    }
   ],
   "source": [
    "# \"Truthy\" values are values that evaluate to the equivalent of the boolean \"true\"; conversely, \"falsey\" values are values that evaluate\n",
    "# to the equivalent of the boolean \"false\". \n",
    "# It's best to understand this by looking at examples of truthy and falsely values (that's what helped me, as I was privy to the concept\n",
    "# but the term was unknown to me). Falsey values are somewhat more restrictive, as seen below:\n",
    "\n",
    "x = \"\"; # The integer 0 and float 0.0 is also falsey. What we perceive as \"non-existent\" tend to falsey. This string, of course, is empty.\n",
    "\n",
    "if (x): # If x is true\n",
    "    print(\"x is truthy!\")\n",
    "else:\n",
    "    print(\"x is falsey!\")\n",
    "\n",
    "list_example = []; # Empty list is falsey. Again, if we think something doesn't exist or amount to anything, it tends to be falsey.\n",
    "\n",
    "if (list_example): # If list_example is true\n",
    "    print(\"The list is truthy!\")\n",
    "else:\n",
    "    print(\"The list is falsey!\")\n",
    "\n",
    "# Therefore, anything that isn't falsey must be truthy. As such, anything we think of as substantive tends to be truthy.\n",
    "\n",
    "y = \"Non-empty string\"\n",
    "\n",
    "if (y): # If y is true\n",
    "    print(\"y is truthy!\")\n",
    "else:\n",
    "    print(\"y is falsey!\")\n",
    "\n",
    "list_example_true = [\"Definitely\", \"Not\", \"Empty\"]\n",
    "\n",
    "if (list_example_true): # If list_example_true is true\n",
    "    print(\"The list is truthy!\")\n",
    "else:\n",
    "    print(\"The list is falsey!\")"
   ]
  },
  {
   "cell_type": "markdown",
   "metadata": {},
   "source": [
    "8. What is the difference between a dynamically typed and statically typed language? \n",
    "\n",
    "Which one is python? \n",
    "\n",
    "When is that a good thing? \n",
    "\n",
    "When is that a bad thing? "
   ]
  },
  {
   "cell_type": "code",
   "execution_count": null,
   "metadata": {},
   "outputs": [],
   "source": [
    "# A dynamically typed language is one in which variables don't need to be declared with a data type. Above, you can see that we simply assign\n",
    "# a value to a variable without formally declaring what data type we want the variable to be, which means Python is a dynamically typed \n",
    "# language. Another example would be PHP, which I learned last year.\n",
    "# This is in contrast to statically typed languages in which this is the case.  I learned Java and C++, which are both \n",
    "# examples of statically typed languages. To create a variable, I must set it to a data type (e.x., int x = 0). \n",
    "# Python is"
   ]
  },
  {
   "cell_type": "markdown",
   "metadata": {},
   "source": [
    "9. Here is a [link](https://docs.python.org/3/library/functions.html) to the python `built-in functions`. Choose 2 and give an example of how to use them. "
   ]
  },
  {
   "cell_type": "code",
   "execution_count": 22,
   "metadata": {},
   "outputs": [
    {
     "data": {
      "text/plain": [
       "5"
      ]
     },
     "execution_count": 22,
     "metadata": {},
     "output_type": "execute_result"
    }
   ],
   "source": [
    "# pow() takes three parameters: base, exp, and mod, which is optional (it just takes the modulus of base^exp, very situational).\n",
    "# This is useful for performing exponential operations, being the substitute for cumbersome loops.\n",
    "pow(2, 3) # Returns 8, which is 2^3.\n",
    "\n",
    "# Additionally, round() takes two parameters: number, and ndigits which is optional and is simply the number of decimal places number should \n",
    "# be rounded to, defaulted to the nearest integer.\n",
    "round(4.6)"
   ]
  },
  {
   "cell_type": "markdown",
   "metadata": {},
   "source": [
    "10. What `operator` might help me determine if an integer is even or odd? Provide a code example, and make sure it runs!"
   ]
  },
  {
   "cell_type": "code",
   "execution_count": 23,
   "metadata": {},
   "outputs": [
    {
     "name": "stdout",
     "output_type": "stream",
     "text": [
      "x is even!\n"
     ]
    }
   ],
   "source": [
    "# The modulus operator ('%') is vital in determining if an integer is even or odd. It returns the remainder of the first value divided by the\n",
    "# second, which means that, if a value is even, if it is divided by 2, it must not have a remainder (divide evenly into 2).\n",
    "x = 6\n",
    "if (x % 2 == 0): # Again, if x % 2 = 0, then that means there is no remainder, which means it is even.\n",
    "    print(\"x is even!\")\n",
    "else:\n",
    "    print(\"x is odd!\")"
   ]
  },
  {
   "cell_type": "markdown",
   "metadata": {},
   "source": [
    "11. What is a python expression? What does an expression evalute to? "
   ]
  },
  {
   "cell_type": "code",
   "execution_count": null,
   "metadata": {},
   "outputs": [],
   "source": [
    "# An expression is simply some combination of values and operators that evaluates to a final value, just like in mathematics.\n",
    "# A basic arithmetic expression such as 5 + 5 can be reproduced in Python.\n",
    "# An important distinction is that expressions in Python generally returns some form of a distinctive computation."
   ]
  },
  {
   "cell_type": "markdown",
   "metadata": {},
   "source": [
    "12. Provide an expression that evaluates which variable is greater. "
   ]
  },
  {
   "cell_type": "code",
   "execution_count": 24,
   "metadata": {},
   "outputs": [
    {
     "name": "stdout",
     "output_type": "stream",
     "text": [
      "True\n"
     ]
    }
   ],
   "source": [
    "foo = 77\n",
    "bar = 38\n",
    "\n",
    "x = foo > bar # foo > bar is the expression\n",
    "print(x) # For testing :)"
   ]
  },
  {
   "cell_type": "markdown",
   "metadata": {},
   "source": [
    "13. Provide an if statement (inside the provided for loop) that prints 'even' if the number is even, 'odd' if the number is odd, and 'found it!' if the number is 3."
   ]
  },
  {
   "cell_type": "code",
   "execution_count": 27,
   "metadata": {},
   "outputs": [
    {
     "name": "stdout",
     "output_type": "stream",
     "text": [
      "odd\n",
      "even\n",
      "found it!\n",
      "even\n",
      "odd\n",
      "even\n",
      "odd\n",
      "even\n",
      "odd\n"
     ]
    }
   ],
   "source": [
    "my_list = [1,2,3,4,5,6,7,8,9]\n",
    "for i in my_list:\n",
    "    if (i == 3):\n",
    "        print(\"found it!\")\n",
    "    elif (i % 2 == 0):\n",
    "        print(\"even\")\n",
    "    else:\n",
    "        print(\"odd\")\n",
    "    \n",
    "    #Your if statement goes here.\n",
    "    \n",
    "    #Be sure to indent the statement\n",
    "    #And delete the word 'pass'"
   ]
  },
  {
   "cell_type": "markdown",
   "metadata": {},
   "source": [
    "14. What is the greater than equal to operator? Show a code example of how it is used. "
   ]
  },
  {
   "cell_type": "code",
   "execution_count": 28,
   "metadata": {},
   "outputs": [
    {
     "name": "stdout",
     "output_type": "stream",
     "text": [
      "10\n",
      "9\n",
      "8\n",
      "7\n",
      "6\n",
      "5\n"
     ]
    }
   ],
   "source": [
    "# The greater than or equal to operator is '>='. Pretty intuitive. Here's how it's used if we want to use every integer from 10 to 5 in\n",
    "# descending order:\n",
    "x = 10\n",
    "\n",
    "while (x >= 5): # The >= is important here because if there was just the > operator, then 5 would not print.\n",
    "    print(x)\n",
    "    x -= 1"
   ]
  },
  {
   "cell_type": "markdown",
   "metadata": {},
   "source": [
    "15. What is the floored division operator? Show a code example of how it is used. "
   ]
  },
  {
   "cell_type": "code",
   "execution_count": 29,
   "metadata": {},
   "outputs": [
    {
     "name": "stdout",
     "output_type": "stream",
     "text": [
      "5.0\n"
     ]
    }
   ],
   "source": [
    "# The floored division operator is '//', which is just two divide operators. It divides two numbers but rounds the result down to the nearest\n",
    "# integer. This can be useful if we're dividing two floats but require the smallest integer less than or equal to the result without type \n",
    "# casting the integer to truncate the decimal.\n",
    "x = 10.5 // 2.0\n",
    "print(x)"
   ]
  },
  {
   "cell_type": "markdown",
   "metadata": {},
   "source": [
    "16. Why does the following give an error? Show how to fix it."
   ]
  },
  {
   "cell_type": "code",
   "execution_count": 30,
   "metadata": {},
   "outputs": [
    {
     "ename": "SyntaxError",
     "evalue": "invalid decimal literal (445552376.py, line 1)",
     "output_type": "error",
     "traceback": [
      "\u001b[0;36m  Cell \u001b[0;32mIn[30], line 1\u001b[0;36m\u001b[0m\n\u001b[0;31m    2cars = ('Ferarri', 'Mustang')\u001b[0m\n\u001b[0m    ^\u001b[0m\n\u001b[0;31mSyntaxError\u001b[0m\u001b[0;31m:\u001b[0m invalid decimal literal\n"
     ]
    }
   ],
   "source": [
    "2cars = ('Ferarri', 'Mustang')"
   ]
  },
  {
   "cell_type": "code",
   "execution_count": 31,
   "metadata": {},
   "outputs": [],
   "source": [
    "# Variable names cannot begin with numerical values. Here's an (correct) alternative:\n",
    "cars2 = ('Ferarri', 'Mustang')"
   ]
  },
  {
   "cell_type": "markdown",
   "metadata": {},
   "source": [
    "17. Why does this if statement evaluate to true and do what's in the if body? \n",
    "You will see this shortcut a lot and it can be confusing."
   ]
  },
  {
   "cell_type": "code",
   "execution_count": 34,
   "metadata": {},
   "outputs": [
    {
     "name": "stdout",
     "output_type": "stream",
     "text": [
      "Hooray!\n"
     ]
    }
   ],
   "source": [
    "some_list = ['fizz','buzz',1,{'key':'value'}]\n",
    "\n",
    "if (some_list):\n",
    "    print('Hooray!')"
   ]
  },
  {
   "cell_type": "code",
   "execution_count": null,
   "metadata": {},
   "outputs": [],
   "source": [
    "# Variable names by their lonesome can evaluate to their truthy or falsey values. Basically, 'if some_list' is the equivalent to\n",
    "# 'if some_list == true'.\n",
    "\n",
    "# This is an aside and only tangentially related to this question, but I thought the contrary to this would be 'if !some_list', which can be read as, \"if NOT some_list\" and is equivalent to \n",
    "# 'if some_list == false' as in Java / C++, but this is incorrect syntax. Is there a shortcut similar to this in Python?"
   ]
  },
  {
   "cell_type": "markdown",
   "metadata": {},
   "source": [
    "18. Write an expression that raises one number to the power of 8. "
   ]
  },
  {
   "cell_type": "code",
   "execution_count": 35,
   "metadata": {},
   "outputs": [
    {
     "name": "stdout",
     "output_type": "stream",
     "text": [
      "8\n"
     ]
    }
   ],
   "source": [
    "x = pow(2,3)\n",
    "\n",
    "print(x) "
   ]
  },
  {
   "cell_type": "markdown",
   "metadata": {},
   "source": [
    "19. How can you change `my_var` form an `int` to a `str`?"
   ]
  },
  {
   "cell_type": "code",
   "execution_count": 3,
   "metadata": {},
   "outputs": [],
   "source": [
    "my_var = 65"
   ]
  },
  {
   "cell_type": "code",
   "execution_count": 38,
   "metadata": {},
   "outputs": [
    {
     "name": "stdout",
     "output_type": "stream",
     "text": [
      "65 <class 'str'>\n"
     ]
    }
   ],
   "source": [
    "my_var = 65\n",
    "my_var = str(my_var) # Type cast to a string\n",
    "print (my_var, type(my_var)) # For testing, again :)"
   ]
  },
  {
   "cell_type": "markdown",
   "metadata": {},
   "source": [
    "20. Slice `some_string` to only include the words `quarter to eight`. "
   ]
  },
  {
   "cell_type": "code",
   "execution_count": 5,
   "metadata": {},
   "outputs": [],
   "source": [
    "some_string = \"I have got a date at a quarter to eight; I'll see you at the gate, so don't be late\""
   ]
  },
  {
   "cell_type": "code",
   "execution_count": 47,
   "metadata": {},
   "outputs": [
    {
     "name": "stdout",
     "output_type": "stream",
     "text": [
      "a quarter to eight\n"
     ]
    }
   ],
   "source": [
    "x = slice (21, 39)\n",
    "print(some_string[x])"
   ]
  },
  {
   "cell_type": "markdown",
   "metadata": {},
   "source": [
    "21. Assign a new **variable** `sport` (that you define) to the 3rd element in the list."
   ]
  },
  {
   "cell_type": "code",
   "execution_count": 8,
   "metadata": {},
   "outputs": [],
   "source": [
    "my_favorite_teams = ['Chiefs', 'Cardinals', 'Blues', 'Billikens','Battlehawks', 'No sports ball for me']"
   ]
  },
  {
   "cell_type": "code",
   "execution_count": 50,
   "metadata": {},
   "outputs": [
    {
     "name": "stdout",
     "output_type": "stream",
     "text": [
      "['Chiefs', 'Cardinals', 'Rams', 'Billikens', 'Battlehawks', 'No sports ball for me']\n"
     ]
    }
   ],
   "source": [
    "sport = 'Rams'\n",
    "\n",
    "my_favorite_teams[2] = sport # Indexes begin at 0!!!!\n",
    "\n",
    "print(my_favorite_teams)"
   ]
  },
  {
   "cell_type": "markdown",
   "metadata": {},
   "source": [
    "22. What is the use case for the `dir()` method? "
   ]
  },
  {
   "cell_type": "code",
   "execution_count": null,
   "metadata": {},
   "outputs": [],
   "source": [
    "# The dir() method returns all the methods and properties defined inside a particular object, most useful when debugging a class you have\n",
    "# made and examining it before runtime."
   ]
  },
  {
   "cell_type": "markdown",
   "metadata": {},
   "source": [
    "23. (3 pts) Write a function that takes in any number and triples it. Give the function a default value if no number is passed in."
   ]
  },
  {
   "cell_type": "code",
   "execution_count": 52,
   "metadata": {},
   "outputs": [
    {
     "name": "stdout",
     "output_type": "stream",
     "text": [
      "3\n"
     ]
    }
   ],
   "source": [
    "def triple(x = 1):\n",
    "    return x * 3\n",
    "\n",
    "print(triple(3)) # For testing; print(triple()) returns 3 because 1 * 3 = 3 (1 being the default value)"
   ]
  },
  {
   "cell_type": "markdown",
   "metadata": {},
   "source": [
    "Bonus (2 pts): Iterate through integers_list and print values that are multiples of 9."
   ]
  },
  {
   "cell_type": "code",
   "execution_count": 55,
   "metadata": {},
   "outputs": [
    {
     "name": "stdout",
     "output_type": "stream",
     "text": [
      "27\n",
      "54\n",
      "909\n",
      "243\n",
      "459\n"
     ]
    }
   ],
   "source": [
    "import random\n",
    "integers_list = [random.randint(0,1000) for i in range(50)] # a list comprehension\n",
    "\n",
    "# your code here\n",
    "for num in integers_list:\n",
    "    if (num % 9 == 0):\n",
    "        print(num)"
   ]
  }
 ],
 "metadata": {
  "kernelspec": {
   "display_name": "Python 3 (ipykernel)",
   "language": "python",
   "name": "python3"
  },
  "language_info": {
   "codemirror_mode": {
    "name": "ipython",
    "version": 3
   },
   "file_extension": ".py",
   "mimetype": "text/x-python",
   "name": "python",
   "nbconvert_exporter": "python",
   "pygments_lexer": "ipython3",
   "version": "3.12.6"
  }
 },
 "nbformat": 4,
 "nbformat_minor": 4
}
