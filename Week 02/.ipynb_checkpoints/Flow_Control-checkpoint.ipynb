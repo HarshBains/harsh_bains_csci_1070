{
 "cells": [
  {
   "cell_type": "markdown",
   "id": "7ec1520a-32bb-456f-b9e7-287ebf6127f2",
   "metadata": {},
   "source": [
    "# Loops and Functions"
   ]
  },
  {
   "cell_type": "code",
   "execution_count": 7,
   "id": "774af312-8840-4ad0-8a94-401fb3f9b660",
   "metadata": {},
   "outputs": [
    {
     "name": "stdout",
     "output_type": "stream",
     "text": [
      "a is greater\n"
     ]
    }
   ],
   "source": [
    "# Loops are flow control. Changes how code executes iteratively, how data moves through the application.\n",
    "# if ... (elif) ... else\n",
    "# If and else are optional. Depends on what you're trying to do.\n",
    "# If a equals b, return \"they are equal\". If a is greater than b, \"a is greater\".\n",
    "\n",
    "# == is comparing whereas = is setting something equal to something else (assigning a value).\n",
    "a = 20\n",
    "b = 18\n",
    "if a == b:\n",
    "    print (\"They are equal\")\n",
    "elif a > b:\n",
    "    print (\"a is greater\")\n",
    "elif b > a:\n",
    "    print(\"b is greater\")"
   ]
  },
  {
   "cell_type": "code",
   "execution_count": 10,
   "id": "4c3d230e-2817-45d8-9c98-1be1e1fc08cb",
   "metadata": {},
   "outputs": [
    {
     "name": "stdout",
     "output_type": "stream",
     "text": [
      "7\n",
      "6\n",
      "5\n"
     ]
    }
   ],
   "source": [
    "# While loops\n",
    "# These repeatedly test an expression and continue to run whatever is in the loop until a stopping condition is met.\n",
    "x = 7\n",
    "while x >= 5:\n",
    "    print(x)\n",
    "    # decrement our x so it can stop\n",
    "    # x = x - 1\n",
    "    x -= 1\n",
    "    "
   ]
  },
  {
   "cell_type": "code",
   "execution_count": 11,
   "id": "e144f000-21f0-4067-891a-9e19cc861f0b",
   "metadata": {},
   "outputs": [
    {
     "name": "stdout",
     "output_type": "stream",
     "text": [
      "3\n",
      "4\n",
      "5\n",
      "6\n",
      "7\n",
      "8\n",
      "9\n"
     ]
    }
   ],
   "source": [
    "# Create a scenario where x starts at 3 and is incremented by 1\n",
    "# You print the value of x while x is less than 10\n",
    "\n",
    "x = 3\n",
    "\n",
    "while x < 10:\n",
    "    print(x)\n",
    "    x += 1"
   ]
  },
  {
   "cell_type": "code",
   "execution_count": 12,
   "id": "724209cd-8120-40b5-aeaa-9331c264539d",
   "metadata": {},
   "outputs": [
    {
     "name": "stdout",
     "output_type": "stream",
     "text": [
      "Dexter\n",
      "Grumpy\n",
      "Pete\n",
      "Dotty\n",
      "Fluffy\n"
     ]
    }
   ],
   "source": [
    "cats = [\"Dexter\", \"Grumpy\", \"Pete\", \"Dotty\", \"Fluffy\"] #List\n",
    "for cat in cats: #First variable name can be anything, second has to be the list\n",
    "    print(cat)"
   ]
  },
  {
   "cell_type": "code",
   "execution_count": 17,
   "id": "f4e0580f-34a5-4135-ab72-b10dfa3a964f",
   "metadata": {},
   "outputs": [
    {
     "name": "stdout",
     "output_type": "stream",
     "text": [
      "1\n",
      "2\n",
      "3\n",
      "4\n",
      "5\n",
      "6\n",
      "7\n",
      "8\n",
      "9\n",
      "10\n"
     ]
    }
   ],
   "source": [
    "# range(start, stop[, step]) [optional]\n",
    "# Stop is exclusive, so its not included\n",
    "for r in range(1, 10 + 1):\n",
    "    print (r)"
   ]
  },
  {
   "cell_type": "code",
   "execution_count": 23,
   "id": "dfa7c081-7650-41fb-acab-1960b13f4050",
   "metadata": {},
   "outputs": [],
   "source": [
    "# If we want our code to be reusable, we use a function!\n",
    "# Any variables we want to use in the function need to be passed in or defined inside the function itself.\n",
    "def comparison(a = 0, b = 0): # = 0 defines a default argument.\n",
    "    if a == b:\n",
    "        return (\"They are equal\")\n",
    "    elif a > b:\n",
    "        return (\"a is greater\")\n",
    "    elif b > a:\n",
    "        return (\"b is greater\")"
   ]
  },
  {
   "cell_type": "code",
   "execution_count": 24,
   "id": "5863618b-6df8-497d-b00a-ab5f81fe73af",
   "metadata": {},
   "outputs": [
    {
     "data": {
      "text/plain": [
       "'b is greater'"
      ]
     },
     "execution_count": 24,
     "metadata": {},
     "output_type": "execute_result"
    }
   ],
   "source": [
    "comparison (2, 17)"
   ]
  },
  {
   "cell_type": "code",
   "execution_count": null,
   "id": "82a5de73-093c-4ee0-882f-25d63d9fe989",
   "metadata": {},
   "outputs": [],
   "source": []
  }
 ],
 "metadata": {
  "kernelspec": {
   "display_name": "Python 3 (ipykernel)",
   "language": "python",
   "name": "python3"
  },
  "language_info": {
   "codemirror_mode": {
    "name": "ipython",
    "version": 3
   },
   "file_extension": ".py",
   "mimetype": "text/x-python",
   "name": "python",
   "nbconvert_exporter": "python",
   "pygments_lexer": "ipython3",
   "version": "3.12.5"
  }
 },
 "nbformat": 4,
 "nbformat_minor": 5
}
