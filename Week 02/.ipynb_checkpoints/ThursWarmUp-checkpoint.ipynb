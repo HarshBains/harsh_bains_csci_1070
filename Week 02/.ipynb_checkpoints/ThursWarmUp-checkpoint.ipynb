{
 "cells": [
  {
   "cell_type": "code",
   "execution_count": 8,
   "id": "45c78afc-f8c4-48f0-8a65-e3f9a442f771",
   "metadata": {},
   "outputs": [
    {
     "name": "stdin",
     "output_type": "stream",
     "text": [
      "Enter a number: 5\n"
     ]
    },
    {
     "name": "stdout",
     "output_type": "stream",
     "text": [
      "The variable x has a value of 5\n"
     ]
    }
   ],
   "source": [
    "# Write a python expression that takes a variable x and returns the following:\n",
    "# \"The variable x has a value of <the value of x>\";\n",
    "\n",
    "x = int(input(\"Enter a number:\"));\n",
    "\n",
    "print(\"The variable x has a value of\", x);\n"
   ]
  },
  {
   "cell_type": "code",
   "execution_count": null,
   "id": "8b1c2aae-2ab8-42b9-9d51-b848440f4cde",
   "metadata": {},
   "outputs": [],
   "source": [
    "# What does the Is command do? What does the cd command do? What do they stand for?\n",
    "# The \"Is\" command tests to check if two variables are equivalent, returning a \n",
    "# The \"cd\" command changes the active working directory that a terminal is looking at. It stands for \"change directory.\""
   ]
  }
 ],
 "metadata": {
  "kernelspec": {
   "display_name": "Python 3 (ipykernel)",
   "language": "python",
   "name": "python3"
  },
  "language_info": {
   "codemirror_mode": {
    "name": "ipython",
    "version": 3
   },
   "file_extension": ".py",
   "mimetype": "text/x-python",
   "name": "python",
   "nbconvert_exporter": "python",
   "pygments_lexer": "ipython3",
   "version": "3.12.5"
  }
 },
 "nbformat": 4,
 "nbformat_minor": 5
}
