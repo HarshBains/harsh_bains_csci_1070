{
 "cells": [
  {
   "cell_type": "code",
   "execution_count": null,
   "id": "84e44d4a-ee55-4368-a463-6ba12dcb0bbc",
   "metadata": {},
   "outputs": [],
   "source": [
    "num = int(input(\"Enter a number: \"))\n",
    "\n",
    "if num % 2 == 0:\n",
    "    print (\"Even\")\n",
    "else:\n",
    "    print (\"Odd\")"
   ]
  },
  {
   "cell_type": "code",
   "execution_count": null,
   "id": "f62ff082-d870-4b66-a6ff-a2e5d4aaaad0",
   "metadata": {},
   "outputs": [],
   "source": []
  }
 ],
 "metadata": {
  "kernelspec": {
   "display_name": "Python 3 (ipykernel)",
   "language": "python",
   "name": "python3"
  },
  "language_info": {
   "codemirror_mode": {
    "name": "ipython",
    "version": 3
   },
   "file_extension": ".py",
   "mimetype": "text/x-python",
   "name": "python",
   "nbconvert_exporter": "python",
   "pygments_lexer": "ipython3",
   "version": "3.12.5"
  }
 },
 "nbformat": 4,
 "nbformat_minor": 5
}
