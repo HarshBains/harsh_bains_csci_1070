{
 "cells": [
  {
   "cell_type": "markdown",
   "id": "2ef614e8-49b3-4bef-ab41-6268e98fe438",
   "metadata": {},
   "source": [
    "# Data Types\n",
    "Anytime you want to open a notebook, you first open gitbash (Windows) or terminal (Mac or Linux) and you run \"jupyter notebook\". "
   ]
  },
  {
   "cell_type": "code",
   "execution_count": 1,
   "id": "794a1dfa-1453-4575-b0c6-6c9de63ea7d5",
   "metadata": {},
   "outputs": [],
   "source": [
    "# To run a cell, you can press shift-enter on windows or mac or you can also run command-enter on mac\n",
    "\n",
    "# Assignment is giving a variable a value\n",
    "x = 5 # integer\n",
    "y = 6.7 # float / floating point decimal\n"
   ]
  },
  {
   "cell_type": "code",
   "execution_count": 3,
   "id": "d85b3ad1-274c-4a59-8cdd-ef62a79644e9",
   "metadata": {},
   "outputs": [
    {
     "name": "stdout",
     "output_type": "stream",
     "text": [
      "5\n"
     ]
    }
   ],
   "source": [
    "print(x)\n",
    "# To get hints on a function, put your cursor in the function and press shift-tab"
   ]
  },
  {
   "cell_type": "code",
   "execution_count": 4,
   "id": "84159b72-780d-41d2-886f-97a182687a24",
   "metadata": {},
   "outputs": [
    {
     "data": {
      "text/plain": [
       "float"
      ]
     },
     "execution_count": 4,
     "metadata": {},
     "output_type": "execute_result"
    }
   ],
   "source": [
    "type(y)"
   ]
  },
  {
   "cell_type": "code",
   "execution_count": 7,
   "id": "c505f9cc-fb93-45fb-82ab-59e95ebea690",
   "metadata": {},
   "outputs": [],
   "source": [
    "# Dictionaries are key: value pairs\n",
    "breakfast = {\"pancakes\": 10, \n",
    "             \"bacon\": 30,\n",
    "             \"eggs\": 150}"
   ]
  },
  {
   "cell_type": "code",
   "execution_count": 8,
   "id": "20039879-6eb2-4a6e-8514-db0e91d4b1bf",
   "metadata": {},
   "outputs": [
    {
     "name": "stdout",
     "output_type": "stream",
     "text": [
      "150\n"
     ]
    }
   ],
   "source": [
    "print(breakfast[\"eggs\"])"
   ]
  },
  {
   "cell_type": "code",
   "execution_count": 9,
   "id": "b59ccfe9-890f-4975-bc70-fc20b8ee390f",
   "metadata": {},
   "outputs": [
    {
     "data": {
      "text/plain": [
       "bool"
      ]
     },
     "execution_count": 9,
     "metadata": {},
     "output_type": "execute_result"
    }
   ],
   "source": [
    "# Booleans are true or false values\n",
    "is_true = False\n",
    "type(is_true)"
   ]
  },
  {
   "cell_type": "code",
   "execution_count": 10,
   "id": "b4209302-0b91-4387-8943-378e0101d89e",
   "metadata": {},
   "outputs": [
    {
     "name": "stdout",
     "output_type": "stream",
     "text": [
      "{'coffee', 'bacon', 'pancakes', 'eggs'}\n"
     ]
    }
   ],
   "source": [
    "# Sets have unordered values and unchangeable values (immutable)\n",
    "breakfast_set = {\"eggs\", \"bacon\", \"pancakes\"}\n",
    "# Sets cannot have duplicates; consequently, you cannot add something that is already there\n",
    "breakfast_set.add(\"coffee\")\n",
    "print(breakfast_set)"
   ]
  },
  {
   "cell_type": "code",
   "execution_count": 11,
   "id": "d460f018-28cc-4369-9b3b-f68da3a82705",
   "metadata": {},
   "outputs": [
    {
     "data": {
      "text/plain": [
       "'March'"
      ]
     },
     "execution_count": 11,
     "metadata": {},
     "output_type": "execute_result"
    }
   ],
   "source": [
    "# List values can be changed and they are ordered\n",
    "# We count starting at 0. So, January is item 0, but there are still 3 items in this list\n",
    "months = [\"January\", \"February\", \"March\"]\n",
    "months[2]"
   ]
  },
  {
   "cell_type": "code",
   "execution_count": 12,
   "id": "504ef059-b66f-47f9-b236-0ed8929cff45",
   "metadata": {},
   "outputs": [
    {
     "data": {
      "text/plain": [
       "'coffee'"
      ]
     },
     "execution_count": 12,
     "metadata": {},
     "output_type": "execute_result"
    }
   ],
   "source": [
    "# Tuples are ordered but unchangeable (immutable)\n",
    "breakfast_tuple = (\"coffee\", \"bagels\", \"cereal\")\n",
    "breakfast_tuple[0]"
   ]
  },
  {
   "cell_type": "code",
   "execution_count": 13,
   "id": "a9d98933-0004-4d33-be9c-d6186f5242e4",
   "metadata": {},
   "outputs": [
    {
     "name": "stdout",
     "output_type": "stream",
     "text": [
      "3\n"
     ]
    }
   ],
   "source": [
    "print(len(breakfast_tuple)) # Length is 3 because there are three items"
   ]
  },
  {
   "cell_type": "code",
   "execution_count": 17,
   "id": "c56da281-4e50-4c7b-b6fb-27da901d5dd8",
   "metadata": {},
   "outputs": [
    {
     "name": "stdout",
     "output_type": "stream",
     "text": [
      "('b', 'c')\n"
     ]
    }
   ],
   "source": [
    "# Slicing uses the function slice: slice(start, end, step), step not required\n",
    "letters_tuple = (\"a\",\"b\",\"c\",\"d\",\"e\")\n",
    "x = slice(1, 3);\n",
    "print(letters_tuple[x])"
   ]
  },
  {
   "cell_type": "code",
   "execution_count": 18,
   "id": "b3466eeb-7570-43ac-a0b5-452ab1d046d3",
   "metadata": {},
   "outputs": [
    {
     "data": {
      "text/plain": [
       "('b', 'c')"
      ]
     },
     "execution_count": 18,
     "metadata": {},
     "output_type": "execute_result"
    }
   ],
   "source": [
    "letters_tuple[1:3]"
   ]
  },
  {
   "cell_type": "code",
   "execution_count": 21,
   "id": "7c83be86-515a-4dad-987f-19fbdb64efb9",
   "metadata": {},
   "outputs": [
    {
     "name": "stdout",
     "output_type": "stream",
     "text": [
      "('a', 'c', 'e')\n"
     ]
    }
   ],
   "source": [
    "# Use slice to return a, c, and e\n",
    "# The end value is \"exclusive\" which means 0-5 does not include 5 itself.\n",
    "y = slice(0, 5, 2) \n",
    "print(letters_tuple[y])"
   ]
  },
  {
   "cell_type": "code",
   "execution_count": 2,
   "id": "288a3599-827d-4a8f-b7c6-47dfc87764e3",
   "metadata": {},
   "outputs": [
    {
     "data": {
      "text/plain": [
       "str"
      ]
     },
     "execution_count": 2,
     "metadata": {},
     "output_type": "execute_result"
    }
   ],
   "source": [
    "x = 'yellow'\n",
    "type(x)"
   ]
  },
  {
   "cell_type": "code",
   "execution_count": null,
   "id": "fb389db3-102a-49ac-b18b-c784802bceb1",
   "metadata": {},
   "outputs": [],
   "source": []
  }
 ],
 "metadata": {
  "kernelspec": {
   "display_name": "Python 3 (ipykernel)",
   "language": "python",
   "name": "python3"
  },
  "language_info": {
   "codemirror_mode": {
    "name": "ipython",
    "version": 3
   },
   "file_extension": ".py",
   "mimetype": "text/x-python",
   "name": "python",
   "nbconvert_exporter": "python",
   "pygments_lexer": "ipython3",
   "version": "3.12.5"
  }
 },
 "nbformat": 4,
 "nbformat_minor": 5
}
