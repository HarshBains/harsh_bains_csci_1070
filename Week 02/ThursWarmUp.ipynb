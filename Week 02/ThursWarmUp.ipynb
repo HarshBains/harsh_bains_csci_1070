{
 "cells": [
  {
   "cell_type": "code",
   "execution_count": 9,
   "id": "45c78afc-f8c4-48f0-8a65-e3f9a442f771",
   "metadata": {},
   "outputs": [
    {
     "name": "stdin",
     "output_type": "stream",
     "text": [
      "Enter a number: 5\n"
     ]
    },
    {
     "name": "stdout",
     "output_type": "stream",
     "text": [
      "The variable x has a value of 5\n",
      "The variable x has the value of 5\n"
     ]
    },
    {
     "ename": "TypeError",
     "evalue": "can only concatenate str (not \"int\") to str",
     "output_type": "error",
     "traceback": [
      "\u001b[0;31m---------------------------------------------------------------------------\u001b[0m",
      "\u001b[0;31mTypeError\u001b[0m                                 Traceback (most recent call last)",
      "Cell \u001b[0;32mIn[9], line 11\u001b[0m\n\u001b[1;32m      9\u001b[0m \u001b[38;5;66;03m#Alternatives:\u001b[39;00m\n\u001b[1;32m     10\u001b[0m \u001b[38;5;28mprint\u001b[39m(\u001b[38;5;124mf\u001b[39m\u001b[38;5;124m\"\u001b[39m\u001b[38;5;124mThe variable x has the value of \u001b[39m\u001b[38;5;132;01m{\u001b[39;00mx\u001b[38;5;132;01m}\u001b[39;00m\u001b[38;5;124m\"\u001b[39m)\n\u001b[0;32m---> 11\u001b[0m \u001b[38;5;28mprint\u001b[39m(\u001b[38;5;124;43m\"\u001b[39;49m\u001b[38;5;124;43mThe variable x has a value of \u001b[39;49m\u001b[38;5;124;43m\"\u001b[39;49m\u001b[43m \u001b[49m\u001b[38;5;241;43m+\u001b[39;49m\u001b[43m \u001b[49m\u001b[43mx\u001b[49m); \u001b[38;5;66;03m#Notice the space; the '+' operator doesn't add a space when concatenating.\u001b[39;00m\n",
      "\u001b[0;31mTypeError\u001b[0m: can only concatenate str (not \"int\") to str"
     ]
    }
   ],
   "source": [
    "# Write a python expression that takes a variable x and returns the following:\n",
    "# \"The variable x has a value of <the value of x>\";\n",
    "\n",
    "x = int(input(\"Enter a number:\"));\n",
    "\n",
    "#THis is called string concatenation.\n",
    "print(\"The variable x has a value of\", x);\n",
    "\n",
    "#Alternatives:\n",
    "print(f\"The variable x has the value of {x}\")\n",
    "print(\"The variable x has a value of \" + x); #Notice the space; the '+' operator doesn't add a space when concatenating."
   ]
  },
  {
   "cell_type": "code",
   "execution_count": null,
   "id": "8b1c2aae-2ab8-42b9-9d51-b848440f4cde",
   "metadata": {},
   "outputs": [],
   "source": [
    "# What does the Is command do? What does the cd command do? What do they stand for?\n",
    "# The \"Is\" command shows all the active, working files inside the current directory. It stands for \"list.\"\n",
    "# The \"cd\" command changes the active working directory that a terminal is looking at. It stands for \"change directory.\""
   ]
  }
 ],
 "metadata": {
  "kernelspec": {
   "display_name": "Python 3 (ipykernel)",
   "language": "python",
   "name": "python3"
  },
  "language_info": {
   "codemirror_mode": {
    "name": "ipython",
    "version": 3
   },
   "file_extension": ".py",
   "mimetype": "text/x-python",
   "name": "python",
   "nbconvert_exporter": "python",
   "pygments_lexer": "ipython3",
   "version": "3.12.5"
  }
 },
 "nbformat": 4,
 "nbformat_minor": 5
}
